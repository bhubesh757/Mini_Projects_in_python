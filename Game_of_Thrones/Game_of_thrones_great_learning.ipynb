{
 "cells": [
  {
   "cell_type": "code",
   "execution_count": 24,
   "metadata": {},
   "outputs": [],
   "source": [
    "import pandas as pd"
   ]
  },
  {
   "cell_type": "code",
   "execution_count": 25,
   "metadata": {},
   "outputs": [],
   "source": [
    "import numpy "
   ]
  },
  {
   "cell_type": "code",
   "execution_count": null,
   "metadata": {},
   "outputs": [],
   "source": [
    "# just import rhe csv files in the python from the folder just i will give the dataset in the same file"
   ]
  },
  {
   "cell_type": "code",
   "execution_count": 26,
   "metadata": {},
   "outputs": [],
   "source": [
    "battle = pd.read_csv('battles.csv')"
   ]
  },
  {
   "cell_type": "code",
   "execution_count": 27,
   "metadata": {},
   "outputs": [
    {
     "data": {
      "text/html": [
       "<div>\n",
       "<style scoped>\n",
       "    .dataframe tbody tr th:only-of-type {\n",
       "        vertical-align: middle;\n",
       "    }\n",
       "\n",
       "    .dataframe tbody tr th {\n",
       "        vertical-align: top;\n",
       "    }\n",
       "\n",
       "    .dataframe thead th {\n",
       "        text-align: right;\n",
       "    }\n",
       "</style>\n",
       "<table border=\"1\" class=\"dataframe\">\n",
       "  <thead>\n",
       "    <tr style=\"text-align: right;\">\n",
       "      <th></th>\n",
       "      <th>name</th>\n",
       "      <th>year</th>\n",
       "      <th>battle_number</th>\n",
       "      <th>attacker_king</th>\n",
       "      <th>defender_king</th>\n",
       "      <th>attacker_1</th>\n",
       "      <th>attacker_2</th>\n",
       "      <th>attacker_3</th>\n",
       "      <th>attacker_4</th>\n",
       "      <th>defender_1</th>\n",
       "      <th>...</th>\n",
       "      <th>major_death</th>\n",
       "      <th>major_capture</th>\n",
       "      <th>attacker_size</th>\n",
       "      <th>defender_size</th>\n",
       "      <th>attacker_commander</th>\n",
       "      <th>defender_commander</th>\n",
       "      <th>summer</th>\n",
       "      <th>location</th>\n",
       "      <th>region</th>\n",
       "      <th>note</th>\n",
       "    </tr>\n",
       "  </thead>\n",
       "  <tbody>\n",
       "    <tr>\n",
       "      <th>0</th>\n",
       "      <td>Battle of the Golden Tooth</td>\n",
       "      <td>298</td>\n",
       "      <td>1</td>\n",
       "      <td>Joffrey/Tommen Baratheon</td>\n",
       "      <td>Robb Stark</td>\n",
       "      <td>Lannister</td>\n",
       "      <td>NaN</td>\n",
       "      <td>NaN</td>\n",
       "      <td>NaN</td>\n",
       "      <td>Tully</td>\n",
       "      <td>...</td>\n",
       "      <td>1.0</td>\n",
       "      <td>0.0</td>\n",
       "      <td>15000.0</td>\n",
       "      <td>4000.0</td>\n",
       "      <td>Jaime Lannister</td>\n",
       "      <td>Clement Piper, Vance</td>\n",
       "      <td>1.0</td>\n",
       "      <td>Golden Tooth</td>\n",
       "      <td>The Westerlands</td>\n",
       "      <td>NaN</td>\n",
       "    </tr>\n",
       "    <tr>\n",
       "      <th>1</th>\n",
       "      <td>Battle at the Mummer's Ford</td>\n",
       "      <td>298</td>\n",
       "      <td>2</td>\n",
       "      <td>Joffrey/Tommen Baratheon</td>\n",
       "      <td>Robb Stark</td>\n",
       "      <td>Lannister</td>\n",
       "      <td>NaN</td>\n",
       "      <td>NaN</td>\n",
       "      <td>NaN</td>\n",
       "      <td>Baratheon</td>\n",
       "      <td>...</td>\n",
       "      <td>1.0</td>\n",
       "      <td>0.0</td>\n",
       "      <td>NaN</td>\n",
       "      <td>120.0</td>\n",
       "      <td>Gregor Clegane</td>\n",
       "      <td>Beric Dondarrion</td>\n",
       "      <td>1.0</td>\n",
       "      <td>Mummer's Ford</td>\n",
       "      <td>The Riverlands</td>\n",
       "      <td>NaN</td>\n",
       "    </tr>\n",
       "    <tr>\n",
       "      <th>2</th>\n",
       "      <td>Battle of Riverrun</td>\n",
       "      <td>298</td>\n",
       "      <td>3</td>\n",
       "      <td>Joffrey/Tommen Baratheon</td>\n",
       "      <td>Robb Stark</td>\n",
       "      <td>Lannister</td>\n",
       "      <td>NaN</td>\n",
       "      <td>NaN</td>\n",
       "      <td>NaN</td>\n",
       "      <td>Tully</td>\n",
       "      <td>...</td>\n",
       "      <td>0.0</td>\n",
       "      <td>1.0</td>\n",
       "      <td>15000.0</td>\n",
       "      <td>10000.0</td>\n",
       "      <td>Jaime Lannister, Andros Brax</td>\n",
       "      <td>Edmure Tully, Tytos Blackwood</td>\n",
       "      <td>1.0</td>\n",
       "      <td>Riverrun</td>\n",
       "      <td>The Riverlands</td>\n",
       "      <td>NaN</td>\n",
       "    </tr>\n",
       "    <tr>\n",
       "      <th>3</th>\n",
       "      <td>Battle of the Green Fork</td>\n",
       "      <td>298</td>\n",
       "      <td>4</td>\n",
       "      <td>Robb Stark</td>\n",
       "      <td>Joffrey/Tommen Baratheon</td>\n",
       "      <td>Stark</td>\n",
       "      <td>NaN</td>\n",
       "      <td>NaN</td>\n",
       "      <td>NaN</td>\n",
       "      <td>Lannister</td>\n",
       "      <td>...</td>\n",
       "      <td>1.0</td>\n",
       "      <td>1.0</td>\n",
       "      <td>18000.0</td>\n",
       "      <td>20000.0</td>\n",
       "      <td>Roose Bolton, Wylis Manderly, Medger Cerwyn, H...</td>\n",
       "      <td>Tywin Lannister, Gregor Clegane, Kevan Lannist...</td>\n",
       "      <td>1.0</td>\n",
       "      <td>Green Fork</td>\n",
       "      <td>The Riverlands</td>\n",
       "      <td>NaN</td>\n",
       "    </tr>\n",
       "    <tr>\n",
       "      <th>4</th>\n",
       "      <td>Battle of the Whispering Wood</td>\n",
       "      <td>298</td>\n",
       "      <td>5</td>\n",
       "      <td>Robb Stark</td>\n",
       "      <td>Joffrey/Tommen Baratheon</td>\n",
       "      <td>Stark</td>\n",
       "      <td>Tully</td>\n",
       "      <td>NaN</td>\n",
       "      <td>NaN</td>\n",
       "      <td>Lannister</td>\n",
       "      <td>...</td>\n",
       "      <td>1.0</td>\n",
       "      <td>1.0</td>\n",
       "      <td>1875.0</td>\n",
       "      <td>6000.0</td>\n",
       "      <td>Robb Stark, Brynden Tully</td>\n",
       "      <td>Jaime Lannister</td>\n",
       "      <td>1.0</td>\n",
       "      <td>Whispering Wood</td>\n",
       "      <td>The Riverlands</td>\n",
       "      <td>NaN</td>\n",
       "    </tr>\n",
       "  </tbody>\n",
       "</table>\n",
       "<p>5 rows × 25 columns</p>\n",
       "</div>"
      ],
      "text/plain": [
       "                            name  year  battle_number  \\\n",
       "0     Battle of the Golden Tooth   298              1   \n",
       "1    Battle at the Mummer's Ford   298              2   \n",
       "2             Battle of Riverrun   298              3   \n",
       "3       Battle of the Green Fork   298              4   \n",
       "4  Battle of the Whispering Wood   298              5   \n",
       "\n",
       "              attacker_king             defender_king attacker_1 attacker_2  \\\n",
       "0  Joffrey/Tommen Baratheon                Robb Stark  Lannister        NaN   \n",
       "1  Joffrey/Tommen Baratheon                Robb Stark  Lannister        NaN   \n",
       "2  Joffrey/Tommen Baratheon                Robb Stark  Lannister        NaN   \n",
       "3                Robb Stark  Joffrey/Tommen Baratheon      Stark        NaN   \n",
       "4                Robb Stark  Joffrey/Tommen Baratheon      Stark      Tully   \n",
       "\n",
       "  attacker_3 attacker_4 defender_1  ... major_death  major_capture  \\\n",
       "0        NaN        NaN      Tully  ...         1.0            0.0   \n",
       "1        NaN        NaN  Baratheon  ...         1.0            0.0   \n",
       "2        NaN        NaN      Tully  ...         0.0            1.0   \n",
       "3        NaN        NaN  Lannister  ...         1.0            1.0   \n",
       "4        NaN        NaN  Lannister  ...         1.0            1.0   \n",
       "\n",
       "   attacker_size defender_size  \\\n",
       "0        15000.0        4000.0   \n",
       "1            NaN         120.0   \n",
       "2        15000.0       10000.0   \n",
       "3        18000.0       20000.0   \n",
       "4         1875.0        6000.0   \n",
       "\n",
       "                                  attacker_commander  \\\n",
       "0                                    Jaime Lannister   \n",
       "1                                     Gregor Clegane   \n",
       "2                       Jaime Lannister, Andros Brax   \n",
       "3  Roose Bolton, Wylis Manderly, Medger Cerwyn, H...   \n",
       "4                          Robb Stark, Brynden Tully   \n",
       "\n",
       "                                  defender_commander  summer         location  \\\n",
       "0                               Clement Piper, Vance     1.0     Golden Tooth   \n",
       "1                                   Beric Dondarrion     1.0    Mummer's Ford   \n",
       "2                      Edmure Tully, Tytos Blackwood     1.0         Riverrun   \n",
       "3  Tywin Lannister, Gregor Clegane, Kevan Lannist...     1.0       Green Fork   \n",
       "4                                    Jaime Lannister     1.0  Whispering Wood   \n",
       "\n",
       "            region note  \n",
       "0  The Westerlands  NaN  \n",
       "1   The Riverlands  NaN  \n",
       "2   The Riverlands  NaN  \n",
       "3   The Riverlands  NaN  \n",
       "4   The Riverlands  NaN  \n",
       "\n",
       "[5 rows x 25 columns]"
      ]
     },
     "execution_count": 27,
     "metadata": {},
     "output_type": "execute_result"
    }
   ],
   "source": [
    "battle.head()"
   ]
  },
  {
   "cell_type": "code",
   "execution_count": 5,
   "metadata": {},
   "outputs": [
    {
     "data": {
      "text/plain": [
       "(38, 25)"
      ]
     },
     "execution_count": 5,
     "metadata": {},
     "output_type": "execute_result"
    }
   ],
   "source": [
    "battle.shape"
   ]
  },
  {
   "cell_type": "code",
   "execution_count": 7,
   "metadata": {},
   "outputs": [
    {
     "name": "stdout",
     "output_type": "stream",
     "text": [
      "<class 'pandas.core.frame.DataFrame'>\n",
      "RangeIndex: 38 entries, 0 to 37\n",
      "Data columns (total 25 columns):\n",
      "name                  38 non-null object\n",
      "year                  38 non-null int64\n",
      "battle_number         38 non-null int64\n",
      "attacker_king         36 non-null object\n",
      "defender_king         35 non-null object\n",
      "attacker_1            38 non-null object\n",
      "attacker_2            10 non-null object\n",
      "attacker_3            3 non-null object\n",
      "attacker_4            2 non-null object\n",
      "defender_1            37 non-null object\n",
      "defender_2            2 non-null object\n",
      "defender_3            0 non-null float64\n",
      "defender_4            0 non-null float64\n",
      "attacker_outcome      37 non-null object\n",
      "battle_type           37 non-null object\n",
      "major_death           37 non-null float64\n",
      "major_capture         37 non-null float64\n",
      "attacker_size         24 non-null float64\n",
      "defender_size         19 non-null float64\n",
      "attacker_commander    37 non-null object\n",
      "defender_commander    28 non-null object\n",
      "summer                37 non-null float64\n",
      "location              37 non-null object\n",
      "region                38 non-null object\n",
      "note                  5 non-null object\n",
      "dtypes: float64(7), int64(2), object(16)\n",
      "memory usage: 7.5+ KB\n"
     ]
    }
   ],
   "source": [
    "battle.info()"
   ]
  },
  {
   "cell_type": "code",
   "execution_count": 8,
   "metadata": {},
   "outputs": [],
   "source": [
    "# lets rename the title of the given data, using the rename function\n",
    "battle.rename(columns={'attacker_1':'primary_attacker'},inplace = True)"
   ]
  },
  {
   "cell_type": "code",
   "execution_count": 11,
   "metadata": {},
   "outputs": [
    {
     "data": {
      "text/html": [
       "<div>\n",
       "<style scoped>\n",
       "    .dataframe tbody tr th:only-of-type {\n",
       "        vertical-align: middle;\n",
       "    }\n",
       "\n",
       "    .dataframe tbody tr th {\n",
       "        vertical-align: top;\n",
       "    }\n",
       "\n",
       "    .dataframe thead th {\n",
       "        text-align: right;\n",
       "    }\n",
       "</style>\n",
       "<table border=\"1\" class=\"dataframe\">\n",
       "  <thead>\n",
       "    <tr style=\"text-align: right;\">\n",
       "      <th></th>\n",
       "      <th>name</th>\n",
       "      <th>year</th>\n",
       "      <th>battle_number</th>\n",
       "      <th>attacker_king</th>\n",
       "      <th>defender_king</th>\n",
       "      <th>primary_attacker</th>\n",
       "      <th>attacker_2</th>\n",
       "      <th>attacker_3</th>\n",
       "      <th>attacker_4</th>\n",
       "      <th>defender_1</th>\n",
       "      <th>...</th>\n",
       "      <th>major_death</th>\n",
       "      <th>major_capture</th>\n",
       "      <th>attacker_size</th>\n",
       "      <th>defender_size</th>\n",
       "      <th>attacker_commander</th>\n",
       "      <th>defender_commander</th>\n",
       "      <th>summer</th>\n",
       "      <th>location</th>\n",
       "      <th>region</th>\n",
       "      <th>note</th>\n",
       "    </tr>\n",
       "  </thead>\n",
       "  <tbody>\n",
       "    <tr>\n",
       "      <th>0</th>\n",
       "      <td>Battle of the Golden Tooth</td>\n",
       "      <td>298</td>\n",
       "      <td>1</td>\n",
       "      <td>Joffrey/Tommen Baratheon</td>\n",
       "      <td>Robb Stark</td>\n",
       "      <td>Lannister</td>\n",
       "      <td>NaN</td>\n",
       "      <td>NaN</td>\n",
       "      <td>NaN</td>\n",
       "      <td>Tully</td>\n",
       "      <td>...</td>\n",
       "      <td>1.0</td>\n",
       "      <td>0.0</td>\n",
       "      <td>15000.0</td>\n",
       "      <td>4000.0</td>\n",
       "      <td>Jaime Lannister</td>\n",
       "      <td>Clement Piper, Vance</td>\n",
       "      <td>1.0</td>\n",
       "      <td>Golden Tooth</td>\n",
       "      <td>The Westerlands</td>\n",
       "      <td>NaN</td>\n",
       "    </tr>\n",
       "    <tr>\n",
       "      <th>1</th>\n",
       "      <td>Battle at the Mummer's Ford</td>\n",
       "      <td>298</td>\n",
       "      <td>2</td>\n",
       "      <td>Joffrey/Tommen Baratheon</td>\n",
       "      <td>Robb Stark</td>\n",
       "      <td>Lannister</td>\n",
       "      <td>NaN</td>\n",
       "      <td>NaN</td>\n",
       "      <td>NaN</td>\n",
       "      <td>Baratheon</td>\n",
       "      <td>...</td>\n",
       "      <td>1.0</td>\n",
       "      <td>0.0</td>\n",
       "      <td>NaN</td>\n",
       "      <td>120.0</td>\n",
       "      <td>Gregor Clegane</td>\n",
       "      <td>Beric Dondarrion</td>\n",
       "      <td>1.0</td>\n",
       "      <td>Mummer's Ford</td>\n",
       "      <td>The Riverlands</td>\n",
       "      <td>NaN</td>\n",
       "    </tr>\n",
       "    <tr>\n",
       "      <th>2</th>\n",
       "      <td>Battle of Riverrun</td>\n",
       "      <td>298</td>\n",
       "      <td>3</td>\n",
       "      <td>Joffrey/Tommen Baratheon</td>\n",
       "      <td>Robb Stark</td>\n",
       "      <td>Lannister</td>\n",
       "      <td>NaN</td>\n",
       "      <td>NaN</td>\n",
       "      <td>NaN</td>\n",
       "      <td>Tully</td>\n",
       "      <td>...</td>\n",
       "      <td>0.0</td>\n",
       "      <td>1.0</td>\n",
       "      <td>15000.0</td>\n",
       "      <td>10000.0</td>\n",
       "      <td>Jaime Lannister, Andros Brax</td>\n",
       "      <td>Edmure Tully, Tytos Blackwood</td>\n",
       "      <td>1.0</td>\n",
       "      <td>Riverrun</td>\n",
       "      <td>The Riverlands</td>\n",
       "      <td>NaN</td>\n",
       "    </tr>\n",
       "    <tr>\n",
       "      <th>3</th>\n",
       "      <td>Battle of the Green Fork</td>\n",
       "      <td>298</td>\n",
       "      <td>4</td>\n",
       "      <td>Robb Stark</td>\n",
       "      <td>Joffrey/Tommen Baratheon</td>\n",
       "      <td>Stark</td>\n",
       "      <td>NaN</td>\n",
       "      <td>NaN</td>\n",
       "      <td>NaN</td>\n",
       "      <td>Lannister</td>\n",
       "      <td>...</td>\n",
       "      <td>1.0</td>\n",
       "      <td>1.0</td>\n",
       "      <td>18000.0</td>\n",
       "      <td>20000.0</td>\n",
       "      <td>Roose Bolton, Wylis Manderly, Medger Cerwyn, H...</td>\n",
       "      <td>Tywin Lannister, Gregor Clegane, Kevan Lannist...</td>\n",
       "      <td>1.0</td>\n",
       "      <td>Green Fork</td>\n",
       "      <td>The Riverlands</td>\n",
       "      <td>NaN</td>\n",
       "    </tr>\n",
       "    <tr>\n",
       "      <th>4</th>\n",
       "      <td>Battle of the Whispering Wood</td>\n",
       "      <td>298</td>\n",
       "      <td>5</td>\n",
       "      <td>Robb Stark</td>\n",
       "      <td>Joffrey/Tommen Baratheon</td>\n",
       "      <td>Stark</td>\n",
       "      <td>Tully</td>\n",
       "      <td>NaN</td>\n",
       "      <td>NaN</td>\n",
       "      <td>Lannister</td>\n",
       "      <td>...</td>\n",
       "      <td>1.0</td>\n",
       "      <td>1.0</td>\n",
       "      <td>1875.0</td>\n",
       "      <td>6000.0</td>\n",
       "      <td>Robb Stark, Brynden Tully</td>\n",
       "      <td>Jaime Lannister</td>\n",
       "      <td>1.0</td>\n",
       "      <td>Whispering Wood</td>\n",
       "      <td>The Riverlands</td>\n",
       "      <td>NaN</td>\n",
       "    </tr>\n",
       "  </tbody>\n",
       "</table>\n",
       "<p>5 rows × 25 columns</p>\n",
       "</div>"
      ],
      "text/plain": [
       "                            name  year  battle_number  \\\n",
       "0     Battle of the Golden Tooth   298              1   \n",
       "1    Battle at the Mummer's Ford   298              2   \n",
       "2             Battle of Riverrun   298              3   \n",
       "3       Battle of the Green Fork   298              4   \n",
       "4  Battle of the Whispering Wood   298              5   \n",
       "\n",
       "              attacker_king             defender_king primary_attacker  \\\n",
       "0  Joffrey/Tommen Baratheon                Robb Stark        Lannister   \n",
       "1  Joffrey/Tommen Baratheon                Robb Stark        Lannister   \n",
       "2  Joffrey/Tommen Baratheon                Robb Stark        Lannister   \n",
       "3                Robb Stark  Joffrey/Tommen Baratheon            Stark   \n",
       "4                Robb Stark  Joffrey/Tommen Baratheon            Stark   \n",
       "\n",
       "  attacker_2 attacker_3 attacker_4 defender_1  ... major_death  major_capture  \\\n",
       "0        NaN        NaN        NaN      Tully  ...         1.0            0.0   \n",
       "1        NaN        NaN        NaN  Baratheon  ...         1.0            0.0   \n",
       "2        NaN        NaN        NaN      Tully  ...         0.0            1.0   \n",
       "3        NaN        NaN        NaN  Lannister  ...         1.0            1.0   \n",
       "4      Tully        NaN        NaN  Lannister  ...         1.0            1.0   \n",
       "\n",
       "   attacker_size defender_size  \\\n",
       "0        15000.0        4000.0   \n",
       "1            NaN         120.0   \n",
       "2        15000.0       10000.0   \n",
       "3        18000.0       20000.0   \n",
       "4         1875.0        6000.0   \n",
       "\n",
       "                                  attacker_commander  \\\n",
       "0                                    Jaime Lannister   \n",
       "1                                     Gregor Clegane   \n",
       "2                       Jaime Lannister, Andros Brax   \n",
       "3  Roose Bolton, Wylis Manderly, Medger Cerwyn, H...   \n",
       "4                          Robb Stark, Brynden Tully   \n",
       "\n",
       "                                  defender_commander  summer         location  \\\n",
       "0                               Clement Piper, Vance     1.0     Golden Tooth   \n",
       "1                                   Beric Dondarrion     1.0    Mummer's Ford   \n",
       "2                      Edmure Tully, Tytos Blackwood     1.0         Riverrun   \n",
       "3  Tywin Lannister, Gregor Clegane, Kevan Lannist...     1.0       Green Fork   \n",
       "4                                    Jaime Lannister     1.0  Whispering Wood   \n",
       "\n",
       "            region note  \n",
       "0  The Westerlands  NaN  \n",
       "1   The Riverlands  NaN  \n",
       "2   The Riverlands  NaN  \n",
       "3   The Riverlands  NaN  \n",
       "4   The Riverlands  NaN  \n",
       "\n",
       "[5 rows x 25 columns]"
      ]
     },
     "execution_count": 11,
     "metadata": {},
     "output_type": "execute_result"
    }
   ],
   "source": [
    "battle.head()"
   ]
  },
  {
   "cell_type": "code",
   "execution_count": 12,
   "metadata": {},
   "outputs": [],
   "source": [
    "battle.rename(columns={'defender_1':'primary_defender'},inplace = True)"
   ]
  },
  {
   "cell_type": "code",
   "execution_count": 14,
   "metadata": {},
   "outputs": [
    {
     "data": {
      "text/html": [
       "<div>\n",
       "<style scoped>\n",
       "    .dataframe tbody tr th:only-of-type {\n",
       "        vertical-align: middle;\n",
       "    }\n",
       "\n",
       "    .dataframe tbody tr th {\n",
       "        vertical-align: top;\n",
       "    }\n",
       "\n",
       "    .dataframe thead th {\n",
       "        text-align: right;\n",
       "    }\n",
       "</style>\n",
       "<table border=\"1\" class=\"dataframe\">\n",
       "  <thead>\n",
       "    <tr style=\"text-align: right;\">\n",
       "      <th></th>\n",
       "      <th>name</th>\n",
       "      <th>year</th>\n",
       "      <th>battle_number</th>\n",
       "      <th>attacker_king</th>\n",
       "      <th>defender_king</th>\n",
       "      <th>primary_attacker</th>\n",
       "      <th>attacker_2</th>\n",
       "      <th>attacker_3</th>\n",
       "      <th>attacker_4</th>\n",
       "      <th>primary_defender</th>\n",
       "      <th>...</th>\n",
       "      <th>major_death</th>\n",
       "      <th>major_capture</th>\n",
       "      <th>attacker_size</th>\n",
       "      <th>defender_size</th>\n",
       "      <th>attacker_commander</th>\n",
       "      <th>defender_commander</th>\n",
       "      <th>summer</th>\n",
       "      <th>location</th>\n",
       "      <th>region</th>\n",
       "      <th>note</th>\n",
       "    </tr>\n",
       "  </thead>\n",
       "  <tbody>\n",
       "    <tr>\n",
       "      <th>0</th>\n",
       "      <td>Battle of the Golden Tooth</td>\n",
       "      <td>298</td>\n",
       "      <td>1</td>\n",
       "      <td>Joffrey/Tommen Baratheon</td>\n",
       "      <td>Robb Stark</td>\n",
       "      <td>Lannister</td>\n",
       "      <td>NaN</td>\n",
       "      <td>NaN</td>\n",
       "      <td>NaN</td>\n",
       "      <td>Tully</td>\n",
       "      <td>...</td>\n",
       "      <td>1.0</td>\n",
       "      <td>0.0</td>\n",
       "      <td>15000.0</td>\n",
       "      <td>4000.0</td>\n",
       "      <td>Jaime Lannister</td>\n",
       "      <td>Clement Piper, Vance</td>\n",
       "      <td>1.0</td>\n",
       "      <td>Golden Tooth</td>\n",
       "      <td>The Westerlands</td>\n",
       "      <td>NaN</td>\n",
       "    </tr>\n",
       "    <tr>\n",
       "      <th>1</th>\n",
       "      <td>Battle at the Mummer's Ford</td>\n",
       "      <td>298</td>\n",
       "      <td>2</td>\n",
       "      <td>Joffrey/Tommen Baratheon</td>\n",
       "      <td>Robb Stark</td>\n",
       "      <td>Lannister</td>\n",
       "      <td>NaN</td>\n",
       "      <td>NaN</td>\n",
       "      <td>NaN</td>\n",
       "      <td>Baratheon</td>\n",
       "      <td>...</td>\n",
       "      <td>1.0</td>\n",
       "      <td>0.0</td>\n",
       "      <td>NaN</td>\n",
       "      <td>120.0</td>\n",
       "      <td>Gregor Clegane</td>\n",
       "      <td>Beric Dondarrion</td>\n",
       "      <td>1.0</td>\n",
       "      <td>Mummer's Ford</td>\n",
       "      <td>The Riverlands</td>\n",
       "      <td>NaN</td>\n",
       "    </tr>\n",
       "    <tr>\n",
       "      <th>2</th>\n",
       "      <td>Battle of Riverrun</td>\n",
       "      <td>298</td>\n",
       "      <td>3</td>\n",
       "      <td>Joffrey/Tommen Baratheon</td>\n",
       "      <td>Robb Stark</td>\n",
       "      <td>Lannister</td>\n",
       "      <td>NaN</td>\n",
       "      <td>NaN</td>\n",
       "      <td>NaN</td>\n",
       "      <td>Tully</td>\n",
       "      <td>...</td>\n",
       "      <td>0.0</td>\n",
       "      <td>1.0</td>\n",
       "      <td>15000.0</td>\n",
       "      <td>10000.0</td>\n",
       "      <td>Jaime Lannister, Andros Brax</td>\n",
       "      <td>Edmure Tully, Tytos Blackwood</td>\n",
       "      <td>1.0</td>\n",
       "      <td>Riverrun</td>\n",
       "      <td>The Riverlands</td>\n",
       "      <td>NaN</td>\n",
       "    </tr>\n",
       "    <tr>\n",
       "      <th>3</th>\n",
       "      <td>Battle of the Green Fork</td>\n",
       "      <td>298</td>\n",
       "      <td>4</td>\n",
       "      <td>Robb Stark</td>\n",
       "      <td>Joffrey/Tommen Baratheon</td>\n",
       "      <td>Stark</td>\n",
       "      <td>NaN</td>\n",
       "      <td>NaN</td>\n",
       "      <td>NaN</td>\n",
       "      <td>Lannister</td>\n",
       "      <td>...</td>\n",
       "      <td>1.0</td>\n",
       "      <td>1.0</td>\n",
       "      <td>18000.0</td>\n",
       "      <td>20000.0</td>\n",
       "      <td>Roose Bolton, Wylis Manderly, Medger Cerwyn, H...</td>\n",
       "      <td>Tywin Lannister, Gregor Clegane, Kevan Lannist...</td>\n",
       "      <td>1.0</td>\n",
       "      <td>Green Fork</td>\n",
       "      <td>The Riverlands</td>\n",
       "      <td>NaN</td>\n",
       "    </tr>\n",
       "    <tr>\n",
       "      <th>4</th>\n",
       "      <td>Battle of the Whispering Wood</td>\n",
       "      <td>298</td>\n",
       "      <td>5</td>\n",
       "      <td>Robb Stark</td>\n",
       "      <td>Joffrey/Tommen Baratheon</td>\n",
       "      <td>Stark</td>\n",
       "      <td>Tully</td>\n",
       "      <td>NaN</td>\n",
       "      <td>NaN</td>\n",
       "      <td>Lannister</td>\n",
       "      <td>...</td>\n",
       "      <td>1.0</td>\n",
       "      <td>1.0</td>\n",
       "      <td>1875.0</td>\n",
       "      <td>6000.0</td>\n",
       "      <td>Robb Stark, Brynden Tully</td>\n",
       "      <td>Jaime Lannister</td>\n",
       "      <td>1.0</td>\n",
       "      <td>Whispering Wood</td>\n",
       "      <td>The Riverlands</td>\n",
       "      <td>NaN</td>\n",
       "    </tr>\n",
       "  </tbody>\n",
       "</table>\n",
       "<p>5 rows × 25 columns</p>\n",
       "</div>"
      ],
      "text/plain": [
       "                            name  year  battle_number  \\\n",
       "0     Battle of the Golden Tooth   298              1   \n",
       "1    Battle at the Mummer's Ford   298              2   \n",
       "2             Battle of Riverrun   298              3   \n",
       "3       Battle of the Green Fork   298              4   \n",
       "4  Battle of the Whispering Wood   298              5   \n",
       "\n",
       "              attacker_king             defender_king primary_attacker  \\\n",
       "0  Joffrey/Tommen Baratheon                Robb Stark        Lannister   \n",
       "1  Joffrey/Tommen Baratheon                Robb Stark        Lannister   \n",
       "2  Joffrey/Tommen Baratheon                Robb Stark        Lannister   \n",
       "3                Robb Stark  Joffrey/Tommen Baratheon            Stark   \n",
       "4                Robb Stark  Joffrey/Tommen Baratheon            Stark   \n",
       "\n",
       "  attacker_2 attacker_3 attacker_4 primary_defender  ... major_death  \\\n",
       "0        NaN        NaN        NaN            Tully  ...         1.0   \n",
       "1        NaN        NaN        NaN        Baratheon  ...         1.0   \n",
       "2        NaN        NaN        NaN            Tully  ...         0.0   \n",
       "3        NaN        NaN        NaN        Lannister  ...         1.0   \n",
       "4      Tully        NaN        NaN        Lannister  ...         1.0   \n",
       "\n",
       "   major_capture  attacker_size defender_size  \\\n",
       "0            0.0        15000.0        4000.0   \n",
       "1            0.0            NaN         120.0   \n",
       "2            1.0        15000.0       10000.0   \n",
       "3            1.0        18000.0       20000.0   \n",
       "4            1.0         1875.0        6000.0   \n",
       "\n",
       "                                  attacker_commander  \\\n",
       "0                                    Jaime Lannister   \n",
       "1                                     Gregor Clegane   \n",
       "2                       Jaime Lannister, Andros Brax   \n",
       "3  Roose Bolton, Wylis Manderly, Medger Cerwyn, H...   \n",
       "4                          Robb Stark, Brynden Tully   \n",
       "\n",
       "                                  defender_commander  summer         location  \\\n",
       "0                               Clement Piper, Vance     1.0     Golden Tooth   \n",
       "1                                   Beric Dondarrion     1.0    Mummer's Ford   \n",
       "2                      Edmure Tully, Tytos Blackwood     1.0         Riverrun   \n",
       "3  Tywin Lannister, Gregor Clegane, Kevan Lannist...     1.0       Green Fork   \n",
       "4                                    Jaime Lannister     1.0  Whispering Wood   \n",
       "\n",
       "            region note  \n",
       "0  The Westerlands  NaN  \n",
       "1   The Riverlands  NaN  \n",
       "2   The Riverlands  NaN  \n",
       "3   The Riverlands  NaN  \n",
       "4   The Riverlands  NaN  \n",
       "\n",
       "[5 rows x 25 columns]"
      ]
     },
     "execution_count": 14,
     "metadata": {},
     "output_type": "execute_result"
    }
   ],
   "source": [
    "battle.head()\n"
   ]
  },
  {
   "cell_type": "code",
   "execution_count": null,
   "metadata": {},
   "outputs": [],
   "source": [
    "# value_counts"
   ]
  },
  {
   "cell_type": "code",
   "execution_count": 15,
   "metadata": {},
   "outputs": [
    {
     "data": {
      "text/plain": [
       "Joffrey/Tommen Baratheon    14\n",
       "Robb Stark                  10\n",
       "Balon/Euron Greyjoy          7\n",
       "Stannis Baratheon            5\n",
       "Name: attacker_king, dtype: int64"
      ]
     },
     "execution_count": 15,
     "metadata": {},
     "output_type": "execute_result"
    }
   ],
   "source": [
    "battle[\"attacker_king\"].value_counts()"
   ]
  },
  {
   "cell_type": "code",
   "execution_count": 16,
   "metadata": {},
   "outputs": [
    {
     "data": {
      "text/plain": [
       "Winterfell                              3\n",
       "Riverrun                                3\n",
       "Darry                                   2\n",
       "Storm's End                             2\n",
       "Harrenhal                               2\n",
       "Deepwood Motte                          2\n",
       "Torrhen's Square                        2\n",
       "Moat Cailin                             2\n",
       "Saltpans                                1\n",
       "Raventree                               1\n",
       "Ryamsport, Vinetown, Starfish Harbor    1\n",
       "Stony Shore                             1\n",
       "Whispering Wood                         1\n",
       "Ruby Ford                               1\n",
       "Crag                                    1\n",
       "Mummer's Ford                           1\n",
       "Seagard                                 1\n",
       "Red Fork                                1\n",
       "King's Landing                          1\n",
       "Castle Black                            1\n",
       "Duskendale                              1\n",
       "Oxcross                                 1\n",
       "Green Fork                              1\n",
       "Golden Tooth                            1\n",
       "The Twins                               1\n",
       "Shield Islands                          1\n",
       "Dragonstone                             1\n",
       "Name: location, dtype: int64"
      ]
     },
     "execution_count": 16,
     "metadata": {},
     "output_type": "execute_result"
    }
   ],
   "source": [
    "battle[\"location\"].value_counts()"
   ]
  },
  {
   "cell_type": "code",
   "execution_count": 30,
   "metadata": {},
   "outputs": [],
   "source": [
    "import seaborn as sns\n",
    "import matplotlib.pyplot as plt"
   ]
  },
  {
   "cell_type": "code",
   "execution_count": 32,
   "metadata": {},
   "outputs": [
    {
     "name": "stdout",
     "output_type": "stream",
     "text": [
      "<class 'pandas.core.frame.DataFrame'>\n",
      "RangeIndex: 38 entries, 0 to 37\n",
      "Data columns (total 25 columns):\n",
      "name                  38 non-null object\n",
      "year                  38 non-null int64\n",
      "battle_number         38 non-null int64\n",
      "attacker_king         36 non-null object\n",
      "defender_king         35 non-null object\n",
      "attacker_1            38 non-null object\n",
      "attacker_2            10 non-null object\n",
      "attacker_3            3 non-null object\n",
      "attacker_4            2 non-null object\n",
      "defender_1            37 non-null object\n",
      "defender_2            2 non-null object\n",
      "defender_3            0 non-null float64\n",
      "defender_4            0 non-null float64\n",
      "attacker_outcome      37 non-null object\n",
      "battle_type           37 non-null object\n",
      "major_death           37 non-null float64\n",
      "major_capture         37 non-null float64\n",
      "attacker_size         24 non-null float64\n",
      "defender_size         19 non-null float64\n",
      "attacker_commander    37 non-null object\n",
      "defender_commander    28 non-null object\n",
      "summer                37 non-null float64\n",
      "location              37 non-null object\n",
      "region                38 non-null object\n",
      "note                  5 non-null object\n",
      "dtypes: float64(7), int64(2), object(16)\n",
      "memory usage: 7.5+ KB\n"
     ]
    }
   ],
   "source": [
    "battle.info()"
   ]
  },
  {
   "cell_type": "code",
   "execution_count": 33,
   "metadata": {},
   "outputs": [
    {
     "data": {
      "image/png": "[encoded data removed]",
      "text/plain": [
       "<Figure size 936x360 with 1 Axes>"
      ]
     },
     "metadata": {},
     "output_type": "display_data"
    }
   ],
   "source": [
    "sns.set(rc = {'figure.figsize':(13,5)})\n",
    "sns.barplot(x = 'attacker_king' , y = 'attacker_size' ,data = battle)\n",
    "plt.show()"
   ]
  },
  {
   "cell_type": "code",
   "execution_count": 34,
   "metadata": {},
   "outputs": [
    {
     "data": {
      "image/png": "[encoded data removed]",
      "text/plain": [
       "<Figure size 936x360 with 1 Axes>"
      ]
     },
     "metadata": {},
     "output_type": "display_data"
    }
   ],
   "source": [
    "sns.set(rc = {'figure.figsize':(13,5)})\n",
    "sns.barplot(x = 'defender_king' , y = 'defender_size' ,data = battle)\n",
    "plt.show()"
   ]
  },
  {
   "cell_type": "code",
   "execution_count": 35,
   "metadata": {},
   "outputs": [
    {
     "data": {
      "text/plain": [
       "<matplotlib.axes._subplots.AxesSubplot at 0x773f73ad30>"
      ]
     },
     "execution_count": 35,
     "metadata": {},
     "output_type": "execute_result"
    },
    {
     "data": {
      "image/png": "[encoded data removed]",
      "text/plain": [
       "<Figure size 936x360 with 1 Axes>"
      ]
     },
     "metadata": {},
     "output_type": "display_data"
    }
   ],
   "source": [
    "sns.countplot(x = battle['attacker_king'] , hue = battle['battle_type'])"
   ]
  },
  {
   "cell_type": "code",
   "execution_count": 37,
   "metadata": {},
   "outputs": [
    {
     "data": {
      "text/html": [
       "<div>\n",
       "<style scoped>\n",
       "    .dataframe tbody tr th:only-of-type {\n",
       "        vertical-align: middle;\n",
       "    }\n",
       "\n",
       "    .dataframe tbody tr th {\n",
       "        vertical-align: top;\n",
       "    }\n",
       "\n",
       "    .dataframe thead th {\n",
       "        text-align: right;\n",
       "    }\n",
       "</style>\n",
       "<table border=\"1\" class=\"dataframe\">\n",
       "  <thead>\n",
       "    <tr style=\"text-align: right;\">\n",
       "      <th></th>\n",
       "      <th>Name</th>\n",
       "      <th>Allegiances</th>\n",
       "      <th>Death Year</th>\n",
       "      <th>Book of Death</th>\n",
       "      <th>Death Chapter</th>\n",
       "      <th>Book Intro Chapter</th>\n",
       "      <th>Gender</th>\n",
       "      <th>Nobility</th>\n",
       "      <th>GoT</th>\n",
       "      <th>CoK</th>\n",
       "      <th>SoS</th>\n",
       "      <th>FfC</th>\n",
       "      <th>DwD</th>\n",
       "    </tr>\n",
       "  </thead>\n",
       "  <tbody>\n",
       "    <tr>\n",
       "      <th>0</th>\n",
       "      <td>Addam Marbrand</td>\n",
       "      <td>Lannister</td>\n",
       "      <td>NaN</td>\n",
       "      <td>NaN</td>\n",
       "      <td>NaN</td>\n",
       "      <td>56.0</td>\n",
       "      <td>1</td>\n",
       "      <td>1</td>\n",
       "      <td>1</td>\n",
       "      <td>1</td>\n",
       "      <td>1</td>\n",
       "      <td>1</td>\n",
       "      <td>0</td>\n",
       "    </tr>\n",
       "    <tr>\n",
       "      <th>1</th>\n",
       "      <td>Aegon Frey (Jinglebell)</td>\n",
       "      <td>None</td>\n",
       "      <td>299.0</td>\n",
       "      <td>3.0</td>\n",
       "      <td>51.0</td>\n",
       "      <td>49.0</td>\n",
       "      <td>1</td>\n",
       "      <td>1</td>\n",
       "      <td>0</td>\n",
       "      <td>0</td>\n",
       "      <td>1</td>\n",
       "      <td>0</td>\n",
       "      <td>0</td>\n",
       "    </tr>\n",
       "    <tr>\n",
       "      <th>2</th>\n",
       "      <td>Aegon Targaryen</td>\n",
       "      <td>House Targaryen</td>\n",
       "      <td>NaN</td>\n",
       "      <td>NaN</td>\n",
       "      <td>NaN</td>\n",
       "      <td>5.0</td>\n",
       "      <td>1</td>\n",
       "      <td>1</td>\n",
       "      <td>0</td>\n",
       "      <td>0</td>\n",
       "      <td>0</td>\n",
       "      <td>0</td>\n",
       "      <td>1</td>\n",
       "    </tr>\n",
       "    <tr>\n",
       "      <th>3</th>\n",
       "      <td>Adrack Humble</td>\n",
       "      <td>House Greyjoy</td>\n",
       "      <td>300.0</td>\n",
       "      <td>5.0</td>\n",
       "      <td>20.0</td>\n",
       "      <td>20.0</td>\n",
       "      <td>1</td>\n",
       "      <td>1</td>\n",
       "      <td>0</td>\n",
       "      <td>0</td>\n",
       "      <td>0</td>\n",
       "      <td>0</td>\n",
       "      <td>1</td>\n",
       "    </tr>\n",
       "    <tr>\n",
       "      <th>4</th>\n",
       "      <td>Aemon Costayne</td>\n",
       "      <td>Lannister</td>\n",
       "      <td>NaN</td>\n",
       "      <td>NaN</td>\n",
       "      <td>NaN</td>\n",
       "      <td>NaN</td>\n",
       "      <td>1</td>\n",
       "      <td>1</td>\n",
       "      <td>0</td>\n",
       "      <td>0</td>\n",
       "      <td>1</td>\n",
       "      <td>0</td>\n",
       "      <td>0</td>\n",
       "    </tr>\n",
       "  </tbody>\n",
       "</table>\n",
       "</div>"
      ],
      "text/plain": [
       "                      Name      Allegiances  Death Year  Book of Death  \\\n",
       "0           Addam Marbrand        Lannister         NaN            NaN   \n",
       "1  Aegon Frey (Jinglebell)             None       299.0            3.0   \n",
       "2          Aegon Targaryen  House Targaryen         NaN            NaN   \n",
       "3            Adrack Humble    House Greyjoy       300.0            5.0   \n",
       "4           Aemon Costayne        Lannister         NaN            NaN   \n",
       "\n",
       "   Death Chapter  Book Intro Chapter  Gender  Nobility  GoT  CoK  SoS  FfC  \\\n",
       "0            NaN                56.0       1         1    1    1    1    1   \n",
       "1           51.0                49.0       1         1    0    0    1    0   \n",
       "2            NaN                 5.0       1         1    0    0    0    0   \n",
       "3           20.0                20.0       1         1    0    0    0    0   \n",
       "4            NaN                 NaN       1         1    0    0    1    0   \n",
       "\n",
       "   DwD  \n",
       "0    0  \n",
       "1    0  \n",
       "2    1  \n",
       "3    1  \n",
       "4    0  "
      ]
     },
     "execution_count": 37,
     "metadata": {},
     "output_type": "execute_result"
    }
   ],
   "source": [
    "death = pd.read_csv('character-deaths.csv')\n",
    "death.head()"
   ]
  },
  {
   "cell_type": "code",
   "execution_count": 38,
   "metadata": {},
   "outputs": [
    {
     "data": {
      "text/plain": [
       "(917, 13)"
      ]
     },
     "execution_count": 38,
     "metadata": {},
     "output_type": "execute_result"
    }
   ],
   "source": [
    "death.shape"
   ]
  },
  {
   "cell_type": "code",
   "execution_count": 39,
   "metadata": {},
   "outputs": [
    {
     "data": {
      "text/plain": [
       "1    760\n",
       "0    157\n",
       "Name: Gender, dtype: int64"
      ]
     },
     "execution_count": 39,
     "metadata": {},
     "output_type": "execute_result"
    }
   ],
   "source": [
    "death['Gender'].value_counts()"
   ]
  },
  {
   "cell_type": "code",
   "execution_count": 41,
   "metadata": {},
   "outputs": [
    {
     "data": {
      "text/plain": [
       "0    487\n",
       "1    430\n",
       "Name: Nobility, dtype: int64"
      ]
     },
     "execution_count": 41,
     "metadata": {},
     "output_type": "execute_result"
    }
   ],
   "source": [
    "death['Nobility'].value_counts()"
   ]
  },
  {
   "cell_type": "code",
   "execution_count": 42,
   "metadata": {},
   "outputs": [
    {
     "name": "stdout",
     "output_type": "stream",
     "text": [
      "<class 'pandas.core.frame.DataFrame'>\n",
      "RangeIndex: 917 entries, 0 to 916\n",
      "Data columns (total 13 columns):\n",
      "Name                  917 non-null object\n",
      "Allegiances           917 non-null object\n",
      "Death Year            305 non-null float64\n",
      "Book of Death         307 non-null float64\n",
      "Death Chapter         299 non-null float64\n",
      "Book Intro Chapter    905 non-null float64\n",
      "Gender                917 non-null int64\n",
      "Nobility              917 non-null int64\n",
      "GoT                   917 non-null int64\n",
      "CoK                   917 non-null int64\n",
      "SoS                   917 non-null int64\n",
      "FfC                   917 non-null int64\n",
      "DwD                   917 non-null int64\n",
      "dtypes: float64(4), int64(7), object(2)\n",
      "memory usage: 93.2+ KB\n"
     ]
    }
   ],
   "source": [
    "death.info()"
   ]
  },
  {
   "cell_type": "code",
   "execution_count": 44,
   "metadata": {},
   "outputs": [
    {
     "data": {
      "text/plain": [
       "<function matplotlib.pyplot.show(*args, **kw)>"
      ]
     },
     "execution_count": 44,
     "metadata": {},
     "output_type": "execute_result"
    },
    {
     "data": {
      "image/png": "[encoded data removed]",
      "text/plain": [
       "<Figure size 936x360 with 1 Axes>"
      ]
     },
     "metadata": {},
     "output_type": "display_data"
    }
   ],
   "source": [
    "sns.countplot(death['Death Year'])\n",
    "plt.show"
   ]
  },
  {
   "cell_type": "code",
   "execution_count": 46,
   "metadata": {},
   "outputs": [
    {
     "data": {
      "image/png": "[encoded data removed]",
      "text/plain": [
       "<Figure size 2160x720 with 1 Axes>"
      ]
     },
     "metadata": {},
     "output_type": "display_data"
    }
   ],
   "source": [
    "sns.set(rc = {'figure.figsize':(30,10)})\n",
    "sns.countplot(death['Allegiances'])\n",
    "plt.show()  # which means the clan is belongs to the class of the game of thrones"
   ]
  },
  {
   "cell_type": "code",
   "execution_count": null,
   "metadata": {},
   "outputs": [],
   "source": []
  },
  {
   "cell_type": "code",
   "execution_count": null,
   "metadata": {},
   "outputs": [],
   "source": []
  }
 ],
 "metadata": {
  "kernelspec": {
   "display_name": "Python 3",
   "language": "python",
   "name": "python3"
  },
  "language_info": {
   "codemirror_mode": {
    "name": "ipython",
    "version": 3
   },
   "file_extension": ".py",
   "mimetype": "text/x-python",
   "name": "python",
   "nbconvert_exporter": "python",
   "pygments_lexer": "ipython3",
   "version": "3.7.3"
  }
 },
 "nbformat": 4,
 "nbformat_minor": 2
}
