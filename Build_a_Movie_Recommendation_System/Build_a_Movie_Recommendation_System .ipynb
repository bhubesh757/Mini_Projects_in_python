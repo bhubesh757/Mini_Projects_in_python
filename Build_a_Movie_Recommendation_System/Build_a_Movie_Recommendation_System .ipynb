{
 "cells": [
  {
   "cell_type": "markdown",
   "metadata": {},
   "source": [
    "# Build a Movie Recommendation System "
   ]
  },
  {
   "cell_type": "code",
   "execution_count": 1,
   "metadata": {},
   "outputs": [],
   "source": [
    "import pandas as pd"
   ]
  },
  {
   "cell_type": "code",
   "execution_count": 3,
   "metadata": {},
   "outputs": [
    {
     "data": {
      "text/html": [
       "<div>\n",
       "<style scoped>\n",
       "    .dataframe tbody tr th:only-of-type {\n",
       "        vertical-align: middle;\n",
       "    }\n",
       "\n",
       "    .dataframe tbody tr th {\n",
       "        vertical-align: top;\n",
       "    }\n",
       "\n",
       "    .dataframe thead th {\n",
       "        text-align: right;\n",
       "    }\n",
       "</style>\n",
       "<table border=\"1\" class=\"dataframe\">\n",
       "  <thead>\n",
       "    <tr style=\"text-align: right;\">\n",
       "      <th></th>\n",
       "      <th>userId</th>\n",
       "      <th>movieId</th>\n",
       "      <th>rating</th>\n",
       "      <th>timestamp</th>\n",
       "    </tr>\n",
       "  </thead>\n",
       "  <tbody>\n",
       "    <tr>\n",
       "      <th>0</th>\n",
       "      <td>1</td>\n",
       "      <td>1</td>\n",
       "      <td>4.0</td>\n",
       "      <td>964982703</td>\n",
       "    </tr>\n",
       "    <tr>\n",
       "      <th>1</th>\n",
       "      <td>1</td>\n",
       "      <td>3</td>\n",
       "      <td>4.0</td>\n",
       "      <td>964981247</td>\n",
       "    </tr>\n",
       "    <tr>\n",
       "      <th>2</th>\n",
       "      <td>1</td>\n",
       "      <td>6</td>\n",
       "      <td>4.0</td>\n",
       "      <td>964982224</td>\n",
       "    </tr>\n",
       "    <tr>\n",
       "      <th>3</th>\n",
       "      <td>1</td>\n",
       "      <td>47</td>\n",
       "      <td>5.0</td>\n",
       "      <td>964983815</td>\n",
       "    </tr>\n",
       "    <tr>\n",
       "      <th>4</th>\n",
       "      <td>1</td>\n",
       "      <td>50</td>\n",
       "      <td>5.0</td>\n",
       "      <td>964982931</td>\n",
       "    </tr>\n",
       "  </tbody>\n",
       "</table>\n",
       "</div>"
      ],
      "text/plain": [
       "   userId  movieId  rating  timestamp\n",
       "0       1        1     4.0  964982703\n",
       "1       1        3     4.0  964981247\n",
       "2       1        6     4.0  964982224\n",
       "3       1       47     5.0  964983815\n",
       "4       1       50     5.0  964982931"
      ]
     },
     "execution_count": 3,
     "metadata": {},
     "output_type": "execute_result"
    }
   ],
   "source": [
    "ratings = pd.read_csv('ratings.csv')\n",
    "ratings.head()"
   ]
  },
  {
   "cell_type": "code",
   "execution_count": 5,
   "metadata": {},
   "outputs": [
    {
     "data": {
      "text/html": [
       "<div>\n",
       "<style scoped>\n",
       "    .dataframe tbody tr th:only-of-type {\n",
       "        vertical-align: middle;\n",
       "    }\n",
       "\n",
       "    .dataframe tbody tr th {\n",
       "        vertical-align: top;\n",
       "    }\n",
       "\n",
       "    .dataframe thead th {\n",
       "        text-align: right;\n",
       "    }\n",
       "</style>\n",
       "<table border=\"1\" class=\"dataframe\">\n",
       "  <thead>\n",
       "    <tr style=\"text-align: right;\">\n",
       "      <th></th>\n",
       "      <th>movieId</th>\n",
       "      <th>title</th>\n",
       "      <th>genres</th>\n",
       "    </tr>\n",
       "  </thead>\n",
       "  <tbody>\n",
       "    <tr>\n",
       "      <th>0</th>\n",
       "      <td>1</td>\n",
       "      <td>Toy Story (1995)</td>\n",
       "      <td>Adventure|Animation|Children|Comedy|Fantasy</td>\n",
       "    </tr>\n",
       "    <tr>\n",
       "      <th>1</th>\n",
       "      <td>2</td>\n",
       "      <td>Jumanji (1995)</td>\n",
       "      <td>Adventure|Children|Fantasy</td>\n",
       "    </tr>\n",
       "    <tr>\n",
       "      <th>2</th>\n",
       "      <td>3</td>\n",
       "      <td>Grumpier Old Men (1995)</td>\n",
       "      <td>Comedy|Romance</td>\n",
       "    </tr>\n",
       "    <tr>\n",
       "      <th>3</th>\n",
       "      <td>4</td>\n",
       "      <td>Waiting to Exhale (1995)</td>\n",
       "      <td>Comedy|Drama|Romance</td>\n",
       "    </tr>\n",
       "    <tr>\n",
       "      <th>4</th>\n",
       "      <td>5</td>\n",
       "      <td>Father of the Bride Part II (1995)</td>\n",
       "      <td>Comedy</td>\n",
       "    </tr>\n",
       "  </tbody>\n",
       "</table>\n",
       "</div>"
      ],
      "text/plain": [
       "   movieId                               title  \\\n",
       "0        1                    Toy Story (1995)   \n",
       "1        2                      Jumanji (1995)   \n",
       "2        3             Grumpier Old Men (1995)   \n",
       "3        4            Waiting to Exhale (1995)   \n",
       "4        5  Father of the Bride Part II (1995)   \n",
       "\n",
       "                                        genres  \n",
       "0  Adventure|Animation|Children|Comedy|Fantasy  \n",
       "1                   Adventure|Children|Fantasy  \n",
       "2                               Comedy|Romance  \n",
       "3                         Comedy|Drama|Romance  \n",
       "4                                       Comedy  "
      ]
     },
     "execution_count": 5,
     "metadata": {},
     "output_type": "execute_result"
    }
   ],
   "source": [
    "# get the data from kaggle \n",
    "# procedure\n",
    "movies = pd.read_csv('datasets_60876_118283_movies.csv')\n",
    "movies.head()  # head ehich displays the 1st 5 data"
   ]
  },
  {
   "cell_type": "code",
   "execution_count": 7,
   "metadata": {},
   "outputs": [
    {
     "data": {
      "text/plain": [
       "(100836, 4)"
      ]
     },
     "execution_count": 7,
     "metadata": {},
     "output_type": "execute_result"
    }
   ],
   "source": [
    "ratings.shape # to check the shape of the data"
   ]
  },
  {
   "cell_type": "code",
   "execution_count": 8,
   "metadata": {},
   "outputs": [
    {
     "data": {
      "text/plain": [
       "(9742, 3)"
      ]
     },
     "execution_count": 8,
     "metadata": {},
     "output_type": "execute_result"
    }
   ],
   "source": [
    "movies.shape"
   ]
  },
  {
   "cell_type": "code",
   "execution_count": 9,
   "metadata": {},
   "outputs": [
    {
     "data": {
      "text/html": [
       "<div>\n",
       "<style scoped>\n",
       "    .dataframe tbody tr th:only-of-type {\n",
       "        vertical-align: middle;\n",
       "    }\n",
       "\n",
       "    .dataframe tbody tr th {\n",
       "        vertical-align: top;\n",
       "    }\n",
       "\n",
       "    .dataframe thead th {\n",
       "        text-align: right;\n",
       "    }\n",
       "</style>\n",
       "<table border=\"1\" class=\"dataframe\">\n",
       "  <thead>\n",
       "    <tr style=\"text-align: right;\">\n",
       "      <th></th>\n",
       "      <th>userId</th>\n",
       "      <th>movieId</th>\n",
       "      <th>rating</th>\n",
       "      <th>timestamp</th>\n",
       "    </tr>\n",
       "  </thead>\n",
       "  <tbody>\n",
       "    <tr>\n",
       "      <th>count</th>\n",
       "      <td>100836.000000</td>\n",
       "      <td>100836.000000</td>\n",
       "      <td>100836.000000</td>\n",
       "      <td>1.008360e+05</td>\n",
       "    </tr>\n",
       "    <tr>\n",
       "      <th>mean</th>\n",
       "      <td>326.127564</td>\n",
       "      <td>19435.295718</td>\n",
       "      <td>3.501557</td>\n",
       "      <td>1.205946e+09</td>\n",
       "    </tr>\n",
       "    <tr>\n",
       "      <th>std</th>\n",
       "      <td>182.618491</td>\n",
       "      <td>35530.987199</td>\n",
       "      <td>1.042529</td>\n",
       "      <td>2.162610e+08</td>\n",
       "    </tr>\n",
       "    <tr>\n",
       "      <th>min</th>\n",
       "      <td>1.000000</td>\n",
       "      <td>1.000000</td>\n",
       "      <td>0.500000</td>\n",
       "      <td>8.281246e+08</td>\n",
       "    </tr>\n",
       "    <tr>\n",
       "      <th>25%</th>\n",
       "      <td>177.000000</td>\n",
       "      <td>1199.000000</td>\n",
       "      <td>3.000000</td>\n",
       "      <td>1.019124e+09</td>\n",
       "    </tr>\n",
       "    <tr>\n",
       "      <th>50%</th>\n",
       "      <td>325.000000</td>\n",
       "      <td>2991.000000</td>\n",
       "      <td>3.500000</td>\n",
       "      <td>1.186087e+09</td>\n",
       "    </tr>\n",
       "    <tr>\n",
       "      <th>75%</th>\n",
       "      <td>477.000000</td>\n",
       "      <td>8122.000000</td>\n",
       "      <td>4.000000</td>\n",
       "      <td>1.435994e+09</td>\n",
       "    </tr>\n",
       "    <tr>\n",
       "      <th>max</th>\n",
       "      <td>610.000000</td>\n",
       "      <td>193609.000000</td>\n",
       "      <td>5.000000</td>\n",
       "      <td>1.537799e+09</td>\n",
       "    </tr>\n",
       "  </tbody>\n",
       "</table>\n",
       "</div>"
      ],
      "text/plain": [
       "              userId        movieId         rating     timestamp\n",
       "count  100836.000000  100836.000000  100836.000000  1.008360e+05\n",
       "mean      326.127564   19435.295718       3.501557  1.205946e+09\n",
       "std       182.618491   35530.987199       1.042529  2.162610e+08\n",
       "min         1.000000       1.000000       0.500000  8.281246e+08\n",
       "25%       177.000000    1199.000000       3.000000  1.019124e+09\n",
       "50%       325.000000    2991.000000       3.500000  1.186087e+09\n",
       "75%       477.000000    8122.000000       4.000000  1.435994e+09\n",
       "max       610.000000  193609.000000       5.000000  1.537799e+09"
      ]
     },
     "execution_count": 9,
     "metadata": {},
     "output_type": "execute_result"
    }
   ],
   "source": [
    "ratings.describe() # basic statistics of the given data"
   ]
  },
  {
   "cell_type": "code",
   "execution_count": 10,
   "metadata": {},
   "outputs": [
    {
     "data": {
      "text/html": [
       "<div>\n",
       "<style scoped>\n",
       "    .dataframe tbody tr th:only-of-type {\n",
       "        vertical-align: middle;\n",
       "    }\n",
       "\n",
       "    .dataframe tbody tr th {\n",
       "        vertical-align: top;\n",
       "    }\n",
       "\n",
       "    .dataframe thead th {\n",
       "        text-align: right;\n",
       "    }\n",
       "</style>\n",
       "<table border=\"1\" class=\"dataframe\">\n",
       "  <thead>\n",
       "    <tr style=\"text-align: right;\">\n",
       "      <th></th>\n",
       "      <th>movieId</th>\n",
       "    </tr>\n",
       "  </thead>\n",
       "  <tbody>\n",
       "    <tr>\n",
       "      <th>count</th>\n",
       "      <td>9742.000000</td>\n",
       "    </tr>\n",
       "    <tr>\n",
       "      <th>mean</th>\n",
       "      <td>42200.353623</td>\n",
       "    </tr>\n",
       "    <tr>\n",
       "      <th>std</th>\n",
       "      <td>52160.494854</td>\n",
       "    </tr>\n",
       "    <tr>\n",
       "      <th>min</th>\n",
       "      <td>1.000000</td>\n",
       "    </tr>\n",
       "    <tr>\n",
       "      <th>25%</th>\n",
       "      <td>3248.250000</td>\n",
       "    </tr>\n",
       "    <tr>\n",
       "      <th>50%</th>\n",
       "      <td>7300.000000</td>\n",
       "    </tr>\n",
       "    <tr>\n",
       "      <th>75%</th>\n",
       "      <td>76232.000000</td>\n",
       "    </tr>\n",
       "    <tr>\n",
       "      <th>max</th>\n",
       "      <td>193609.000000</td>\n",
       "    </tr>\n",
       "  </tbody>\n",
       "</table>\n",
       "</div>"
      ],
      "text/plain": [
       "             movieId\n",
       "count    9742.000000\n",
       "mean    42200.353623\n",
       "std     52160.494854\n",
       "min         1.000000\n",
       "25%      3248.250000\n",
       "50%      7300.000000\n",
       "75%     76232.000000\n",
       "max    193609.000000"
      ]
     },
     "execution_count": 10,
     "metadata": {},
     "output_type": "execute_result"
    }
   ],
   "source": [
    "movies.describe()"
   ]
  },
  {
   "cell_type": "code",
   "execution_count": 12,
   "metadata": {},
   "outputs": [
    {
     "data": {
      "text/html": [
       "<div>\n",
       "<style scoped>\n",
       "    .dataframe tbody tr th:only-of-type {\n",
       "        vertical-align: middle;\n",
       "    }\n",
       "\n",
       "    .dataframe tbody tr th {\n",
       "        vertical-align: top;\n",
       "    }\n",
       "\n",
       "    .dataframe thead th {\n",
       "        text-align: right;\n",
       "    }\n",
       "</style>\n",
       "<table border=\"1\" class=\"dataframe\">\n",
       "  <thead>\n",
       "    <tr style=\"text-align: right;\">\n",
       "      <th></th>\n",
       "      <th>userId</th>\n",
       "      <th>movieId</th>\n",
       "      <th>rating</th>\n",
       "      <th>timestamp</th>\n",
       "      <th>title</th>\n",
       "      <th>genres</th>\n",
       "    </tr>\n",
       "  </thead>\n",
       "  <tbody>\n",
       "    <tr>\n",
       "      <th>100831</th>\n",
       "      <td>610</td>\n",
       "      <td>160341</td>\n",
       "      <td>2.5</td>\n",
       "      <td>1479545749</td>\n",
       "      <td>Bloodmoon (1997)</td>\n",
       "      <td>Action|Thriller</td>\n",
       "    </tr>\n",
       "    <tr>\n",
       "      <th>100832</th>\n",
       "      <td>610</td>\n",
       "      <td>160527</td>\n",
       "      <td>4.5</td>\n",
       "      <td>1479544998</td>\n",
       "      <td>Sympathy for the Underdog (1971)</td>\n",
       "      <td>Action|Crime|Drama</td>\n",
       "    </tr>\n",
       "    <tr>\n",
       "      <th>100833</th>\n",
       "      <td>610</td>\n",
       "      <td>160836</td>\n",
       "      <td>3.0</td>\n",
       "      <td>1493844794</td>\n",
       "      <td>Hazard (2005)</td>\n",
       "      <td>Action|Drama|Thriller</td>\n",
       "    </tr>\n",
       "    <tr>\n",
       "      <th>100834</th>\n",
       "      <td>610</td>\n",
       "      <td>163937</td>\n",
       "      <td>3.5</td>\n",
       "      <td>1493848789</td>\n",
       "      <td>Blair Witch (2016)</td>\n",
       "      <td>Horror|Thriller</td>\n",
       "    </tr>\n",
       "    <tr>\n",
       "      <th>100835</th>\n",
       "      <td>610</td>\n",
       "      <td>163981</td>\n",
       "      <td>3.5</td>\n",
       "      <td>1493850155</td>\n",
       "      <td>31 (2016)</td>\n",
       "      <td>Horror</td>\n",
       "    </tr>\n",
       "  </tbody>\n",
       "</table>\n",
       "</div>"
      ],
      "text/plain": [
       "        userId  movieId  rating   timestamp                             title  \\\n",
       "100831     610   160341     2.5  1479545749                  Bloodmoon (1997)   \n",
       "100832     610   160527     4.5  1479544998  Sympathy for the Underdog (1971)   \n",
       "100833     610   160836     3.0  1493844794                     Hazard (2005)   \n",
       "100834     610   163937     3.5  1493848789                Blair Witch (2016)   \n",
       "100835     610   163981     3.5  1493850155                         31 (2016)   \n",
       "\n",
       "                       genres  \n",
       "100831        Action|Thriller  \n",
       "100832     Action|Crime|Drama  \n",
       "100833  Action|Drama|Thriller  \n",
       "100834        Horror|Thriller  \n",
       "100835                 Horror  "
      ]
     },
     "execution_count": 12,
     "metadata": {},
     "output_type": "execute_result"
    }
   ],
   "source": [
    "# to merge the two data use merge function\n",
    "df = pd.merge(ratings , movies)\n",
    "df.tail()"
   ]
  },
  {
   "cell_type": "code",
   "execution_count": 26,
   "metadata": {},
   "outputs": [
    {
     "data": {
      "text/html": [
       "<div>\n",
       "<style scoped>\n",
       "    .dataframe tbody tr th:only-of-type {\n",
       "        vertical-align: middle;\n",
       "    }\n",
       "\n",
       "    .dataframe tbody tr th {\n",
       "        vertical-align: top;\n",
       "    }\n",
       "\n",
       "    .dataframe thead th {\n",
       "        text-align: right;\n",
       "    }\n",
       "</style>\n",
       "<table border=\"1\" class=\"dataframe\">\n",
       "  <thead>\n",
       "    <tr style=\"text-align: right;\">\n",
       "      <th></th>\n",
       "      <th>userId</th>\n",
       "      <th>movieId</th>\n",
       "      <th>rating</th>\n",
       "      <th>timestamp</th>\n",
       "      <th>title</th>\n",
       "      <th>genres</th>\n",
       "      <th>datetime</th>\n",
       "    </tr>\n",
       "  </thead>\n",
       "  <tbody>\n",
       "    <tr>\n",
       "      <th>0</th>\n",
       "      <td>1</td>\n",
       "      <td>1</td>\n",
       "      <td>4.0</td>\n",
       "      <td>964982703</td>\n",
       "      <td>Toy Story (1995)</td>\n",
       "      <td>Adventure|Animation|Children|Comedy|Fantasy</td>\n",
       "      <td>1970-01-01 00:00:00.964982703</td>\n",
       "    </tr>\n",
       "    <tr>\n",
       "      <th>1</th>\n",
       "      <td>5</td>\n",
       "      <td>1</td>\n",
       "      <td>4.0</td>\n",
       "      <td>847434962</td>\n",
       "      <td>Toy Story (1995)</td>\n",
       "      <td>Adventure|Animation|Children|Comedy|Fantasy</td>\n",
       "      <td>1970-01-01 00:00:00.847434962</td>\n",
       "    </tr>\n",
       "    <tr>\n",
       "      <th>2</th>\n",
       "      <td>7</td>\n",
       "      <td>1</td>\n",
       "      <td>4.5</td>\n",
       "      <td>1106635946</td>\n",
       "      <td>Toy Story (1995)</td>\n",
       "      <td>Adventure|Animation|Children|Comedy|Fantasy</td>\n",
       "      <td>1970-01-01 00:00:01.106635946</td>\n",
       "    </tr>\n",
       "    <tr>\n",
       "      <th>3</th>\n",
       "      <td>15</td>\n",
       "      <td>1</td>\n",
       "      <td>2.5</td>\n",
       "      <td>1510577970</td>\n",
       "      <td>Toy Story (1995)</td>\n",
       "      <td>Adventure|Animation|Children|Comedy|Fantasy</td>\n",
       "      <td>1970-01-01 00:00:01.510577970</td>\n",
       "    </tr>\n",
       "    <tr>\n",
       "      <th>4</th>\n",
       "      <td>17</td>\n",
       "      <td>1</td>\n",
       "      <td>4.5</td>\n",
       "      <td>1305696483</td>\n",
       "      <td>Toy Story (1995)</td>\n",
       "      <td>Adventure|Animation|Children|Comedy|Fantasy</td>\n",
       "      <td>1970-01-01 00:00:01.305696483</td>\n",
       "    </tr>\n",
       "  </tbody>\n",
       "</table>\n",
       "</div>"
      ],
      "text/plain": [
       "   userId  movieId  rating   timestamp             title  \\\n",
       "0       1        1     4.0   964982703  Toy Story (1995)   \n",
       "1       5        1     4.0   847434962  Toy Story (1995)   \n",
       "2       7        1     4.5  1106635946  Toy Story (1995)   \n",
       "3      15        1     2.5  1510577970  Toy Story (1995)   \n",
       "4      17        1     4.5  1305696483  Toy Story (1995)   \n",
       "\n",
       "                                        genres                      datetime  \n",
       "0  Adventure|Animation|Children|Comedy|Fantasy 1970-01-01 00:00:00.964982703  \n",
       "1  Adventure|Animation|Children|Comedy|Fantasy 1970-01-01 00:00:00.847434962  \n",
       "2  Adventure|Animation|Children|Comedy|Fantasy 1970-01-01 00:00:01.106635946  \n",
       "3  Adventure|Animation|Children|Comedy|Fantasy 1970-01-01 00:00:01.510577970  \n",
       "4  Adventure|Animation|Children|Comedy|Fantasy 1970-01-01 00:00:01.305696483  "
      ]
     },
     "execution_count": 26,
     "metadata": {},
     "output_type": "execute_result"
    }
   ],
   "source": [
    "df.head()"
   ]
  },
  {
   "cell_type": "code",
   "execution_count": 14,
   "metadata": {},
   "outputs": [],
   "source": [
    "# timestamp to datetime\n",
    "import datetime"
   ]
  },
  {
   "cell_type": "code",
   "execution_count": 17,
   "metadata": {},
   "outputs": [],
   "source": [
    "from datetime import datetime,date"
   ]
  },
  {
   "cell_type": "code",
   "execution_count": 23,
   "metadata": {},
   "outputs": [],
   "source": [
    "df['datetime'] = pd.to_datetime(df['timestamp'])"
   ]
  },
  {
   "cell_type": "code",
   "execution_count": 25,
   "metadata": {},
   "outputs": [
    {
     "data": {
      "text/plain": [
       "(100836, 7)"
      ]
     },
     "execution_count": 25,
     "metadata": {},
     "output_type": "execute_result"
    }
   ],
   "source": [
    "df.shape"
   ]
  },
  {
   "cell_type": "code",
   "execution_count": null,
   "metadata": {},
   "outputs": [],
   "source": [
    "# nunique is used to , how many unique customers are there in data"
   ]
  },
  {
   "cell_type": "code",
   "execution_count": 28,
   "metadata": {},
   "outputs": [
    {
     "data": {
      "text/plain": [
       "userId         610\n",
       "movieId       9724\n",
       "rating          10\n",
       "timestamp    85043\n",
       "title         9719\n",
       "genres         951\n",
       "datetime     85043\n",
       "dtype: int64"
      ]
     },
     "execution_count": 28,
     "metadata": {},
     "output_type": "execute_result"
    }
   ],
   "source": [
    "df.nunique()"
   ]
  },
  {
   "cell_type": "markdown",
   "metadata": {},
   "source": [
    "# Average Ratings"
   ]
  },
  {
   "cell_type": "code",
   "execution_count": 30,
   "metadata": {},
   "outputs": [
    {
     "data": {
      "text/plain": [
       "title\n",
       "'71 (2014)                                                                                  4.000000\n",
       "'Hellboy': The Seeds of Creation (2004)                                                     4.000000\n",
       "'Round Midnight (1986)                                                                      3.500000\n",
       "'Salem's Lot (2004)                                                                         5.000000\n",
       "'Til There Was You (1997)                                                                   4.000000\n",
       "'Tis the Season for Love (2015)                                                             1.500000\n",
       "'burbs, The (1989)                                                                          3.176471\n",
       "'night Mother (1986)                                                                        3.000000\n",
       "(500) Days of Summer (2009)                                                                 3.666667\n",
       "*batteries not included (1987)                                                              3.285714\n",
       "...All the Marbles (1981)                                                                   2.000000\n",
       "...And Justice for All (1979)                                                               3.166667\n",
       "00 Schneider - Jagd auf Nihil Baxter (1994)                                                 4.500000\n",
       "1-900 (06) (1994)                                                                           4.000000\n",
       "10 (1979)                                                                                   3.375000\n",
       "10 Cent Pistol (2015)                                                                       1.250000\n",
       "10 Cloverfield Lane (2016)                                                                  3.678571\n",
       "10 Items or Less (2006)                                                                     2.666667\n",
       "10 Things I Hate About You (1999)                                                           3.527778\n",
       "10 Years (2011)                                                                             3.500000\n",
       "10,000 BC (2008)                                                                            2.705882\n",
       "100 Girls (2000)                                                                            3.250000\n",
       "100 Streets (2016)                                                                          2.500000\n",
       "101 Dalmatians (1996)                                                                       3.074468\n",
       "101 Dalmatians (One Hundred and One Dalmatians) (1961)                                      3.431818\n",
       "101 Dalmatians II: Patch's London Adventure (2003)                                          2.500000\n",
       "101 Reykjavik (101 Reykjavík) (2000)                                                        3.500000\n",
       "102 Dalmatians (2000)                                                                       2.777778\n",
       "10th & Wolf (2006)                                                                          4.500000\n",
       "10th Kingdom, The (2000)                                                                    2.750000\n",
       "                                                                                              ...   \n",
       "Zero Dark Thirty (2012)                                                                     4.107143\n",
       "Zero Effect (1998)                                                                          3.966667\n",
       "Zero Theorem, The (2013)                                                                    3.000000\n",
       "Zero de conduite (Zero for Conduct) (Zéro de conduite: Jeunes diables au collège) (1933)    4.000000\n",
       "Zeus and Roxanne (1997)                                                                     1.000000\n",
       "Zipper (2015)                                                                               2.000000\n",
       "Zodiac (2007)                                                                               3.710526\n",
       "Zombeavers (2014)                                                                           2.500000\n",
       "Zombie (a.k.a. Zombie 2: The Dead Are Among Us) (Zombi 2) (1979)                            4.000000\n",
       "Zombie Strippers! (2008)                                                                    0.500000\n",
       "Zombieland (2009)                                                                           3.877358\n",
       "Zone 39 (1997)                                                                              2.000000\n",
       "Zone, The (La Zona) (2007)                                                                  3.500000\n",
       "Zookeeper (2011)                                                                            2.750000\n",
       "Zoolander (2001)                                                                            3.509259\n",
       "Zoolander 2 (2016)                                                                          2.500000\n",
       "Zoom (2006)                                                                                 2.500000\n",
       "Zoom (2015)                                                                                 2.500000\n",
       "Zootopia (2016)                                                                             3.890625\n",
       "Zulu (1964)                                                                                 4.000000\n",
       "Zulu (2013)                                                                                 1.500000\n",
       "[REC] (2007)                                                                                4.062500\n",
       "[REC]² (2009)                                                                               3.666667\n",
       "[REC]³ 3 Génesis (2012)                                                                     3.000000\n",
       "anohana: The Flower We Saw That Day - The Movie (2013)                                      3.000000\n",
       "eXistenZ (1999)                                                                             3.863636\n",
       "xXx (2002)                                                                                  2.770833\n",
       "xXx: State of the Union (2005)                                                              2.000000\n",
       "¡Three Amigos! (1986)                                                                       3.134615\n",
       "À nous la liberté (Freedom for Us) (1931)                                                   1.000000\n",
       "Name: rating, Length: 9719, dtype: float64"
      ]
     },
     "execution_count": 30,
     "metadata": {},
     "output_type": "execute_result"
    }
   ],
   "source": [
    "a = df\n",
    "a = a.groupby('title')['rating'].mean()\n",
    "a"
   ]
  },
  {
   "cell_type": "code",
   "execution_count": null,
   "metadata": {},
   "outputs": [],
   "source": [
    "#groupby() function is used to split the data into groups based on some criteria"
   ]
  },
  {
   "cell_type": "code",
   "execution_count": null,
   "metadata": {},
   "outputs": [],
   "source": [
    "# sort the data"
   ]
  },
  {
   "cell_type": "code",
   "execution_count": 31,
   "metadata": {},
   "outputs": [],
   "source": [
    "sorted_ratings_wise_movies = a.sort_values(ascending = False)"
   ]
  },
  {
   "cell_type": "code",
   "execution_count": 34,
   "metadata": {},
   "outputs": [
    {
     "data": {
      "text/plain": [
       "title\n",
       "Karlson Returns (1970)                                5.0\n",
       "Winter in Prostokvashino (1984)                       5.0\n",
       "My Love (2006)                                        5.0\n",
       "Sorority House Massacre II (1990)                     5.0\n",
       "Winnie the Pooh and the Day of Concern (1972)         5.0\n",
       "Sorority House Massacre (1986)                        5.0\n",
       "Bill Hicks: Revelations (1993)                        5.0\n",
       "My Man Godfrey (1957)                                 5.0\n",
       "Hellbenders (2012)                                    5.0\n",
       "In the blue sea, in the white foam. (1984)            5.0\n",
       "Won't You Be My Neighbor? (2018)                      5.0\n",
       "Red Sorghum (Hong gao liang) (1987)                   5.0\n",
       "Love Exposure (Ai No Mukidashi) (2008)                5.0\n",
       "My Sassy Girl (Yeopgijeogin geunyeo) (2001)           5.0\n",
       "The Love Bug (1997)                                   5.0\n",
       "Ballad of Narayama, The (Narayama bushiko) (1983)     5.0\n",
       "Heidi Fleiss: Hollywood Madam (1995)                  5.0\n",
       "Louis Theroux: Law & Disorder (2008)                  5.0\n",
       "Winnie the Pooh Goes Visiting (1971)                  5.0\n",
       "In the Realm of the Senses (Ai no corrida) (1976)     5.0\n",
       "Winnie Pooh (1969)                                    5.0\n",
       "Ex Drummer (2007)                                     5.0\n",
       "Tom Segura: Mostly Stories (2016)                     5.0\n",
       "Tom and Jerry: A Nutcracker Tale (2007)               5.0\n",
       "A Plasticine Crow (1981)                              5.0\n",
       "Tom and Jerry: Shiver Me Whiskers (2006)              5.0\n",
       "Cosmic Scrat-tastrophe (2015)                         5.0\n",
       "Delirium (2014)                                       5.0\n",
       "Lumberjack Man (2015)                                 5.0\n",
       "Loving Vincent (2017)                                 5.0\n",
       "                                                     ... \n",
       "Cincinnati Kid, The (1965)                            0.5\n",
       "Wizards of the Lost Kingdom II (1989)                 0.5\n",
       "Begotten (1990)                                       0.5\n",
       "Old Dogs (2009)                                       0.5\n",
       "Spy Who Came in from the Cold, The (1965)             0.5\n",
       "Oblivion 2: Backlash (1996)                           0.5\n",
       "Starcrash (a.k.a. Star Crash) (1978)                  0.5\n",
       "Baxter (1989)                                         0.5\n",
       "Collector, The (1965)                                 0.5\n",
       "Gypsy (1962)                                          0.5\n",
       "3 Ninjas Knuckle Up (1995)                            0.5\n",
       "My Bloody Valentine (1981)                            0.5\n",
       "3 dev adam (Three Giant Men) (1973)                   0.5\n",
       "Superfast! (2015)                                     0.5\n",
       "Crow, The: Wicked Prayer (2005)                       0.5\n",
       "Survivor (2015)                                       0.5\n",
       "Mortal Kombat: The Journey Begins (1995)              0.5\n",
       "Bad Santa 2 (2016)                                    0.5\n",
       "Cyborg (1989)                                         0.5\n",
       "Hard Ticket to Hawaii (1987)                          0.5\n",
       "Baby Boy (2001)                                       0.5\n",
       "Midnight Chronicles (2009)                            0.5\n",
       "Haunted House 2, A (2014)                             0.5\n",
       "Maria Bamford: The Special Special Special! (2012)    0.5\n",
       "Dead of Night (1945)                                  0.5\n",
       "The Beast of Hollow Mountain (1956)                   0.5\n",
       "Follow Me, Boys! (1966)                               0.5\n",
       "The Butterfly Effect 3: Revelations (2009)            0.5\n",
       "The Emoji Movie (2017)                                0.5\n",
       "Rust and Bone (De rouille et d'os) (2012)             0.5\n",
       "Name: rating, Length: 9719, dtype: float64"
      ]
     },
     "execution_count": 34,
     "metadata": {},
     "output_type": "execute_result"
    }
   ],
   "source": [
    "sorted_ratings_wise_movies"
   ]
  },
  {
   "cell_type": "markdown",
   "metadata": {},
   "source": [
    "# total no of ratings for a particular movie"
   ]
  },
  {
   "cell_type": "code",
   "execution_count": 37,
   "metadata": {},
   "outputs": [
    {
     "data": {
      "text/plain": [
       "title\n",
       "eXistenZ (1999)                              22\n",
       "xXx (2002)                                   24\n",
       "xXx: State of the Union (2005)                5\n",
       "¡Three Amigos! (1986)                        26\n",
       "À nous la liberté (Freedom for Us) (1931)     1\n",
       "Name: rating, dtype: int64"
      ]
     },
     "execution_count": 37,
     "metadata": {},
     "output_type": "execute_result"
    }
   ],
   "source": [
    "b = df.groupby('title')['rating'].count()\n",
    "b.tail()"
   ]
  },
  {
   "cell_type": "markdown",
   "metadata": {},
   "source": [
    "# Adding the above data's to the columns or else creating the new dataset"
   ]
  },
  {
   "cell_type": "code",
   "execution_count": 39,
   "metadata": {},
   "outputs": [],
   "source": [
    "# making a new dataframe = df\n",
    "new_record = pd.DataFrame()"
   ]
  },
  {
   "cell_type": "code",
   "execution_count": 42,
   "metadata": {},
   "outputs": [],
   "source": [
    "new_record['Average Ratings'] = a"
   ]
  },
  {
   "cell_type": "code",
   "execution_count": 43,
   "metadata": {},
   "outputs": [],
   "source": [
    "new_record['Total Ratings'] = b"
   ]
  },
  {
   "cell_type": "code",
   "execution_count": 45,
   "metadata": {},
   "outputs": [
    {
     "data": {
      "text/html": [
       "<div>\n",
       "<style scoped>\n",
       "    .dataframe tbody tr th:only-of-type {\n",
       "        vertical-align: middle;\n",
       "    }\n",
       "\n",
       "    .dataframe tbody tr th {\n",
       "        vertical-align: top;\n",
       "    }\n",
       "\n",
       "    .dataframe thead th {\n",
       "        text-align: right;\n",
       "    }\n",
       "</style>\n",
       "<table border=\"1\" class=\"dataframe\">\n",
       "  <thead>\n",
       "    <tr style=\"text-align: right;\">\n",
       "      <th></th>\n",
       "      <th>Average Ratings</th>\n",
       "      <th>Total Ratings</th>\n",
       "    </tr>\n",
       "    <tr>\n",
       "      <th>title</th>\n",
       "      <th></th>\n",
       "      <th></th>\n",
       "    </tr>\n",
       "  </thead>\n",
       "  <tbody>\n",
       "    <tr>\n",
       "      <th>'71 (2014)</th>\n",
       "      <td>4.0</td>\n",
       "      <td>1</td>\n",
       "    </tr>\n",
       "    <tr>\n",
       "      <th>'Hellboy': The Seeds of Creation (2004)</th>\n",
       "      <td>4.0</td>\n",
       "      <td>1</td>\n",
       "    </tr>\n",
       "    <tr>\n",
       "      <th>'Round Midnight (1986)</th>\n",
       "      <td>3.5</td>\n",
       "      <td>2</td>\n",
       "    </tr>\n",
       "    <tr>\n",
       "      <th>'Salem's Lot (2004)</th>\n",
       "      <td>5.0</td>\n",
       "      <td>1</td>\n",
       "    </tr>\n",
       "    <tr>\n",
       "      <th>'Til There Was You (1997)</th>\n",
       "      <td>4.0</td>\n",
       "      <td>2</td>\n",
       "    </tr>\n",
       "  </tbody>\n",
       "</table>\n",
       "</div>"
      ],
      "text/plain": [
       "                                         Average Ratings  Total Ratings\n",
       "title                                                                  \n",
       "'71 (2014)                                           4.0              1\n",
       "'Hellboy': The Seeds of Creation (2004)              4.0              1\n",
       "'Round Midnight (1986)                               3.5              2\n",
       "'Salem's Lot (2004)                                  5.0              1\n",
       "'Til There Was You (1997)                            4.0              2"
      ]
     },
     "execution_count": 45,
     "metadata": {},
     "output_type": "execute_result"
    }
   ],
   "source": [
    "new_record.head()"
   ]
  },
  {
   "cell_type": "markdown",
   "metadata": {},
   "source": [
    "# visualising the dataset"
   ]
  },
  {
   "cell_type": "code",
   "execution_count": 46,
   "metadata": {},
   "outputs": [],
   "source": [
    "import matplotlib.pyplot as plt"
   ]
  },
  {
   "cell_type": "code",
   "execution_count": 47,
   "metadata": {},
   "outputs": [],
   "source": [
    "import seaborn as sns"
   ]
  },
  {
   "cell_type": "code",
   "execution_count": 51,
   "metadata": {},
   "outputs": [],
   "source": [
    "%matplotlib inline"
   ]
  },
  {
   "cell_type": "code",
   "execution_count": 52,
   "metadata": {},
   "outputs": [
    {
     "data": {
      "text/plain": [
       "Index(['Average Ratings', 'Total Ratings'], dtype='object')"
      ]
     },
     "execution_count": 52,
     "metadata": {},
     "output_type": "execute_result"
    }
   ],
   "source": [
    "new_record.columns"
   ]
  },
  {
   "cell_type": "code",
   "execution_count": 56,
   "metadata": {},
   "outputs": [
    {
     "data": {
      "text/plain": [
       "<Figure size 288x648 with 0 Axes>"
      ]
     },
     "metadata": {},
     "output_type": "display_data"
    }
   ],
   "source": [
    "plt.figure(figsize = (4 , 9))\n",
    "plt.show()"
   ]
  },
  {
   "cell_type": "code",
   "execution_count": 61,
   "metadata": {},
   "outputs": [
    {
     "data": {
      "text/plain": [
       "<matplotlib.axes._subplots.AxesSubplot at 0x91144ecf60>"
      ]
     },
     "execution_count": 61,
     "metadata": {},
     "output_type": "execute_result"
    },
    {
     "data": {
      "image/png": "[encoded data removed]",
      "text/plain": [
       "<Figure size 432x288 with 1 Axes>"
      ]
     },
     "metadata": {
      "needs_background": "light"
     },
     "output_type": "display_data"
    }
   ],
   "source": [
    "new_record['Average Ratings'].hist(bins = 40)"
   ]
  },
  {
   "cell_type": "code",
   "execution_count": 72,
   "metadata": {},
   "outputs": [
    {
     "data": {
      "text/plain": [
       "<seaborn.axisgrid.JointGrid at 0x91147ae5c0>"
      ]
     },
     "execution_count": 72,
     "metadata": {},
     "output_type": "execute_result"
    },
    {
     "data": {
      "image/png": "[encoded data removed]",
      "text/plain": [
       "<Figure size 432x432 with 3 Axes>"
      ]
     },
     "metadata": {},
     "output_type": "display_data"
    }
   ],
   "source": [
    "sns.jointplot(x = 'Average Ratings' , y = 'Total Ratings' , data = new_record , alpha = 0.8)"
   ]
  },
  {
   "cell_type": "code",
   "execution_count": 73,
   "metadata": {},
   "outputs": [],
   "source": [
    "sns.set(style=\"whitegrid\", palette=\"rainbow\")"
   ]
  },
  {
   "cell_type": "code",
   "execution_count": null,
   "metadata": {},
   "outputs": [],
   "source": []
  },
  {
   "cell_type": "code",
   "execution_count": 76,
   "metadata": {},
   "outputs": [],
   "source": [
    "# sorting values ascending to the num of rating column\n",
    "\n",
    "moviematrix = df.pivot_table(index= 'userId' , columns = 'title' , values = 'rating')"
   ]
  },
  {
   "cell_type": "code",
   "execution_count": 78,
   "metadata": {},
   "outputs": [
    {
     "data": {
      "text/plain": [
       "Index([''71 (2014)', ''Hellboy': The Seeds of Creation (2004)',\n",
       "       ''Round Midnight (1986)', ''Salem's Lot (2004)',\n",
       "       ''Til There Was You (1997)', ''Tis the Season for Love (2015)',\n",
       "       ''burbs, The (1989)', ''night Mother (1986)',\n",
       "       '(500) Days of Summer (2009)', '*batteries not included (1987)',\n",
       "       ...\n",
       "       'Zulu (2013)', '[REC] (2007)', '[REC]² (2009)',\n",
       "       '[REC]³ 3 Génesis (2012)',\n",
       "       'anohana: The Flower We Saw That Day - The Movie (2013)',\n",
       "       'eXistenZ (1999)', 'xXx (2002)', 'xXx: State of the Union (2005)',\n",
       "       '¡Three Amigos! (1986)', 'À nous la liberté (Freedom for Us) (1931)'],\n",
       "      dtype='object', name='title', length=9719)"
      ]
     },
     "execution_count": 78,
     "metadata": {},
     "output_type": "execute_result"
    }
   ],
   "source": [
    "moviematrix.head()\n",
    "moviematrix.columns"
   ]
  },
  {
   "cell_type": "code",
   "execution_count": 82,
   "metadata": {},
   "outputs": [
    {
     "data": {
      "text/plain": [
       "userId\n",
       "1   NaN\n",
       "2   NaN\n",
       "3   NaN\n",
       "4   NaN\n",
       "5   NaN\n",
       "Name: xXx (2002), dtype: float64"
      ]
     },
     "execution_count": 82,
     "metadata": {},
     "output_type": "execute_result"
    }
   ],
   "source": [
    "moviematrix['xXx (2002)'].head()"
   ]
  },
  {
   "cell_type": "code",
   "execution_count": 85,
   "metadata": {},
   "outputs": [],
   "source": [
    "xXx_2002_ratings = moviematrix['xXx (2002)']"
   ]
  },
  {
   "cell_type": "code",
   "execution_count": 86,
   "metadata": {},
   "outputs": [
    {
     "data": {
      "text/plain": [
       "userId\n",
       "606    NaN\n",
       "607    NaN\n",
       "608    3.5\n",
       "609    NaN\n",
       "610    2.0\n",
       "Name: xXx (2002), dtype: float64"
      ]
     },
     "execution_count": 86,
     "metadata": {},
     "output_type": "execute_result"
    }
   ],
   "source": [
    "# taking all the ratings\n",
    "xXx_2002_ratings.tail()"
   ]
  },
  {
   "cell_type": "code",
   "execution_count": null,
   "metadata": {},
   "outputs": [],
   "source": [
    "# finding the similarity of the movie"
   ]
  },
  {
   "cell_type": "code",
   "execution_count": 88,
   "metadata": {},
   "outputs": [],
   "source": [
    "movies_similar_xxx_2002 = moviematrix.corrwith(xXx_2002_ratings)"
   ]
  },
  {
   "cell_type": "code",
   "execution_count": 91,
   "metadata": {},
   "outputs": [
    {
     "data": {
      "text/plain": [
       "title\n",
       "'71 (2014)                                                                                       NaN\n",
       "'Hellboy': The Seeds of Creation (2004)                                                          NaN\n",
       "'Round Midnight (1986)                                                                           NaN\n",
       "'Salem's Lot (2004)                                                                              NaN\n",
       "'Til There Was You (1997)                                                                        NaN\n",
       "'Tis the Season for Love (2015)                                                                  NaN\n",
       "'burbs, The (1989)                                                                               NaN\n",
       "'night Mother (1986)                                                                             NaN\n",
       "(500) Days of Summer (2009)                                                                 0.831858\n",
       "*batteries not included (1987)                                                                   NaN\n",
       "...All the Marbles (1981)                                                                        NaN\n",
       "...And Justice for All (1979)                                                                    NaN\n",
       "00 Schneider - Jagd auf Nihil Baxter (1994)                                                      NaN\n",
       "1-900 (06) (1994)                                                                                NaN\n",
       "10 (1979)                                                                                        NaN\n",
       "10 Cent Pistol (2015)                                                                            NaN\n",
       "10 Cloverfield Lane (2016)                                                                  0.802955\n",
       "10 Items or Less (2006)                                                                     1.000000\n",
       "10 Things I Hate About You (1999)                                                           0.540062\n",
       "10 Years (2011)                                                                                  NaN\n",
       "10,000 BC (2008)                                                                            0.177325\n",
       "100 Girls (2000)                                                                                 NaN\n",
       "100 Streets (2016)                                                                               NaN\n",
       "101 Dalmatians (1996)                                                                       0.085210\n",
       "101 Dalmatians (One Hundred and One Dalmatians) (1961)                                     -0.558582\n",
       "101 Dalmatians II: Patch's London Adventure (2003)                                               NaN\n",
       "101 Reykjavik (101 Reykjavík) (2000)                                                             NaN\n",
       "102 Dalmatians (2000)                                                                       1.000000\n",
       "10th & Wolf (2006)                                                                               NaN\n",
       "10th Kingdom, The (2000)                                                                         NaN\n",
       "                                                                                              ...   \n",
       "Zero Dark Thirty (2012)                                                                     0.058124\n",
       "Zero Effect (1998)                                                                               NaN\n",
       "Zero Theorem, The (2013)                                                                    1.000000\n",
       "Zero de conduite (Zero for Conduct) (Zéro de conduite: Jeunes diables au collège) (1933)         NaN\n",
       "Zeus and Roxanne (1997)                                                                          NaN\n",
       "Zipper (2015)                                                                                    NaN\n",
       "Zodiac (2007)                                                                              -0.137361\n",
       "Zombeavers (2014)                                                                           1.000000\n",
       "Zombie (a.k.a. Zombie 2: The Dead Are Among Us) (Zombi 2) (1979)                                 NaN\n",
       "Zombie Strippers! (2008)                                                                         NaN\n",
       "Zombieland (2009)                                                                           0.248305\n",
       "Zone 39 (1997)                                                                                   NaN\n",
       "Zone, The (La Zona) (2007)                                                                       NaN\n",
       "Zookeeper (2011)                                                                                 NaN\n",
       "Zoolander (2001)                                                                           -0.106864\n",
       "Zoolander 2 (2016)                                                                          1.000000\n",
       "Zoom (2006)                                                                                      NaN\n",
       "Zoom (2015)                                                                                      NaN\n",
       "Zootopia (2016)                                                                             0.267261\n",
       "Zulu (1964)                                                                                      NaN\n",
       "Zulu (2013)                                                                                      NaN\n",
       "[REC] (2007)                                                                               -0.595769\n",
       "[REC]² (2009)                                                                              -1.000000\n",
       "[REC]³ 3 Génesis (2012)                                                                          NaN\n",
       "anohana: The Flower We Saw That Day - The Movie (2013)                                           NaN\n",
       "eXistenZ (1999)                                                                             0.762493\n",
       "xXx (2002)                                                                                  1.000000\n",
       "xXx: State of the Union (2005)                                                              0.943880\n",
       "¡Three Amigos! (1986)                                                                       0.500000\n",
       "À nous la liberté (Freedom for Us) (1931)                                                        NaN\n",
       "Length: 9719, dtype: float64"
      ]
     },
     "execution_count": 91,
     "metadata": {},
     "output_type": "execute_result"
    }
   ],
   "source": [
    "movies_similar_xxx_2002"
   ]
  },
  {
   "cell_type": "code",
   "execution_count": 92,
   "metadata": {},
   "outputs": [
    {
     "data": {
      "image/png": "[encoded data removed]",
      "text/plain": [
       "<Figure size 720x1080 with 2 Axes>"
      ]
     },
     "metadata": {},
     "output_type": "display_data"
    }
   ],
   "source": [
    "correlation_metrics = df.corr()\n",
    "fig = plt.figure(figsize = (10,15))\n",
    "sns.heatmap(correlation_metrics , annot = True , vmax = 0 , square = True)\n",
    "plt.show()"
   ]
  },
  {
   "cell_type": "code",
   "execution_count": 95,
   "metadata": {},
   "outputs": [
    {
     "data": {
      "text/html": [
       "<div>\n",
       "<style scoped>\n",
       "    .dataframe tbody tr th:only-of-type {\n",
       "        vertical-align: middle;\n",
       "    }\n",
       "\n",
       "    .dataframe tbody tr th {\n",
       "        vertical-align: top;\n",
       "    }\n",
       "\n",
       "    .dataframe thead th {\n",
       "        text-align: right;\n",
       "    }\n",
       "</style>\n",
       "<table border=\"1\" class=\"dataframe\">\n",
       "  <thead>\n",
       "    <tr style=\"text-align: right;\">\n",
       "      <th></th>\n",
       "      <th>Correlation</th>\n",
       "    </tr>\n",
       "    <tr>\n",
       "      <th>title</th>\n",
       "      <th></th>\n",
       "    </tr>\n",
       "  </thead>\n",
       "  <tbody>\n",
       "    <tr>\n",
       "      <th>(500) Days of Summer (2009)</th>\n",
       "      <td>0.831858</td>\n",
       "    </tr>\n",
       "    <tr>\n",
       "      <th>10 Cloverfield Lane (2016)</th>\n",
       "      <td>0.802955</td>\n",
       "    </tr>\n",
       "    <tr>\n",
       "      <th>10 Items or Less (2006)</th>\n",
       "      <td>1.000000</td>\n",
       "    </tr>\n",
       "    <tr>\n",
       "      <th>10 Things I Hate About You (1999)</th>\n",
       "      <td>0.540062</td>\n",
       "    </tr>\n",
       "    <tr>\n",
       "      <th>10,000 BC (2008)</th>\n",
       "      <td>0.177325</td>\n",
       "    </tr>\n",
       "    <tr>\n",
       "      <th>101 Dalmatians (1996)</th>\n",
       "      <td>0.085210</td>\n",
       "    </tr>\n",
       "    <tr>\n",
       "      <th>101 Dalmatians (One Hundred and One Dalmatians) (1961)</th>\n",
       "      <td>-0.558582</td>\n",
       "    </tr>\n",
       "    <tr>\n",
       "      <th>102 Dalmatians (2000)</th>\n",
       "      <td>1.000000</td>\n",
       "    </tr>\n",
       "    <tr>\n",
       "      <th>11:14 (2003)</th>\n",
       "      <td>-1.000000</td>\n",
       "    </tr>\n",
       "    <tr>\n",
       "      <th>12 Angry Men (1957)</th>\n",
       "      <td>0.512989</td>\n",
       "    </tr>\n",
       "    <tr>\n",
       "      <th>127 Hours (2010)</th>\n",
       "      <td>0.792118</td>\n",
       "    </tr>\n",
       "    <tr>\n",
       "      <th>13 Assassins (Jûsan-nin no shikaku) (2010)</th>\n",
       "      <td>0.576557</td>\n",
       "    </tr>\n",
       "    <tr>\n",
       "      <th>13th Warrior, The (1999)</th>\n",
       "      <td>-0.324443</td>\n",
       "    </tr>\n",
       "    <tr>\n",
       "      <th>1408 (2007)</th>\n",
       "      <td>-0.361409</td>\n",
       "    </tr>\n",
       "    <tr>\n",
       "      <th>15 Minutes (2001)</th>\n",
       "      <td>0.333462</td>\n",
       "    </tr>\n",
       "    <tr>\n",
       "      <th>16 Blocks (2006)</th>\n",
       "      <td>0.522976</td>\n",
       "    </tr>\n",
       "    <tr>\n",
       "      <th>187 (One Eight Seven) (1997)</th>\n",
       "      <td>1.000000</td>\n",
       "    </tr>\n",
       "    <tr>\n",
       "      <th>1941 (1979)</th>\n",
       "      <td>1.000000</td>\n",
       "    </tr>\n",
       "    <tr>\n",
       "      <th>1984 (Nineteen Eighty-Four) (1984)</th>\n",
       "      <td>0.774597</td>\n",
       "    </tr>\n",
       "    <tr>\n",
       "      <th>2 Days in the Valley (1996)</th>\n",
       "      <td>1.000000</td>\n",
       "    </tr>\n",
       "    <tr>\n",
       "      <th>2 Fast 2 Furious (Fast and the Furious 2, The) (2003)</th>\n",
       "      <td>0.145296</td>\n",
       "    </tr>\n",
       "    <tr>\n",
       "      <th>20,000 Leagues Under the Sea (1954)</th>\n",
       "      <td>0.000000</td>\n",
       "    </tr>\n",
       "    <tr>\n",
       "      <th>2001 Maniacs (2005)</th>\n",
       "      <td>1.000000</td>\n",
       "    </tr>\n",
       "    <tr>\n",
       "      <th>2001: A Space Odyssey (1968)</th>\n",
       "      <td>0.042377</td>\n",
       "    </tr>\n",
       "    <tr>\n",
       "      <th>2012 (2009)</th>\n",
       "      <td>0.577350</td>\n",
       "    </tr>\n",
       "    <tr>\n",
       "      <th>21 (2008)</th>\n",
       "      <td>-0.044023</td>\n",
       "    </tr>\n",
       "    <tr>\n",
       "      <th>21 Grams (2003)</th>\n",
       "      <td>-0.102062</td>\n",
       "    </tr>\n",
       "    <tr>\n",
       "      <th>21 Jump Street (2012)</th>\n",
       "      <td>-0.188982</td>\n",
       "    </tr>\n",
       "    <tr>\n",
       "      <th>22 Jump Street (2014)</th>\n",
       "      <td>-0.114708</td>\n",
       "    </tr>\n",
       "    <tr>\n",
       "      <th>25th Hour (2002)</th>\n",
       "      <td>-0.283144</td>\n",
       "    </tr>\n",
       "    <tr>\n",
       "      <th>...</th>\n",
       "      <td>...</td>\n",
       "    </tr>\n",
       "    <tr>\n",
       "      <th>Year One (2009)</th>\n",
       "      <td>-1.000000</td>\n",
       "    </tr>\n",
       "    <tr>\n",
       "      <th>Yellow Submarine (1968)</th>\n",
       "      <td>-0.369761</td>\n",
       "    </tr>\n",
       "    <tr>\n",
       "      <th>Yes Man (2008)</th>\n",
       "      <td>0.369755</td>\n",
       "    </tr>\n",
       "    <tr>\n",
       "      <th>Yojimbo (1961)</th>\n",
       "      <td>-0.866025</td>\n",
       "    </tr>\n",
       "    <tr>\n",
       "      <th>You Don't Mess with the Zohan (2008)</th>\n",
       "      <td>0.367884</td>\n",
       "    </tr>\n",
       "    <tr>\n",
       "      <th>You Only Live Twice (1967)</th>\n",
       "      <td>1.000000</td>\n",
       "    </tr>\n",
       "    <tr>\n",
       "      <th>You're Next (2011)</th>\n",
       "      <td>-1.000000</td>\n",
       "    </tr>\n",
       "    <tr>\n",
       "      <th>You've Got Mail (1998)</th>\n",
       "      <td>0.655580</td>\n",
       "    </tr>\n",
       "    <tr>\n",
       "      <th>You, Me and Dupree (2006)</th>\n",
       "      <td>0.500000</td>\n",
       "    </tr>\n",
       "    <tr>\n",
       "      <th>Young Frankenstein (1974)</th>\n",
       "      <td>0.816497</td>\n",
       "    </tr>\n",
       "    <tr>\n",
       "      <th>Young Guns (1988)</th>\n",
       "      <td>0.174928</td>\n",
       "    </tr>\n",
       "    <tr>\n",
       "      <th>Young Guns II (1990)</th>\n",
       "      <td>-1.000000</td>\n",
       "    </tr>\n",
       "    <tr>\n",
       "      <th>Young Sherlock Holmes (1985)</th>\n",
       "      <td>1.000000</td>\n",
       "    </tr>\n",
       "    <tr>\n",
       "      <th>Your Highness (2011)</th>\n",
       "      <td>0.993399</td>\n",
       "    </tr>\n",
       "    <tr>\n",
       "      <th>Zack and Miri Make a Porno (2008)</th>\n",
       "      <td>-0.094726</td>\n",
       "    </tr>\n",
       "    <tr>\n",
       "      <th>Zebraman (2004)</th>\n",
       "      <td>-1.000000</td>\n",
       "    </tr>\n",
       "    <tr>\n",
       "      <th>Zero Dark Thirty (2012)</th>\n",
       "      <td>0.058124</td>\n",
       "    </tr>\n",
       "    <tr>\n",
       "      <th>Zero Theorem, The (2013)</th>\n",
       "      <td>1.000000</td>\n",
       "    </tr>\n",
       "    <tr>\n",
       "      <th>Zodiac (2007)</th>\n",
       "      <td>-0.137361</td>\n",
       "    </tr>\n",
       "    <tr>\n",
       "      <th>Zombeavers (2014)</th>\n",
       "      <td>1.000000</td>\n",
       "    </tr>\n",
       "    <tr>\n",
       "      <th>Zombieland (2009)</th>\n",
       "      <td>0.248305</td>\n",
       "    </tr>\n",
       "    <tr>\n",
       "      <th>Zoolander (2001)</th>\n",
       "      <td>-0.106864</td>\n",
       "    </tr>\n",
       "    <tr>\n",
       "      <th>Zoolander 2 (2016)</th>\n",
       "      <td>1.000000</td>\n",
       "    </tr>\n",
       "    <tr>\n",
       "      <th>Zootopia (2016)</th>\n",
       "      <td>0.267261</td>\n",
       "    </tr>\n",
       "    <tr>\n",
       "      <th>[REC] (2007)</th>\n",
       "      <td>-0.595769</td>\n",
       "    </tr>\n",
       "    <tr>\n",
       "      <th>[REC]² (2009)</th>\n",
       "      <td>-1.000000</td>\n",
       "    </tr>\n",
       "    <tr>\n",
       "      <th>eXistenZ (1999)</th>\n",
       "      <td>0.762493</td>\n",
       "    </tr>\n",
       "    <tr>\n",
       "      <th>xXx (2002)</th>\n",
       "      <td>1.000000</td>\n",
       "    </tr>\n",
       "    <tr>\n",
       "      <th>xXx: State of the Union (2005)</th>\n",
       "      <td>0.943880</td>\n",
       "    </tr>\n",
       "    <tr>\n",
       "      <th>¡Three Amigos! (1986)</th>\n",
       "      <td>0.500000</td>\n",
       "    </tr>\n",
       "  </tbody>\n",
       "</table>\n",
       "<p>2601 rows × 1 columns</p>\n",
       "</div>"
      ],
      "text/plain": [
       "                                                    Correlation\n",
       "title                                                          \n",
       "(500) Days of Summer (2009)                            0.831858\n",
       "10 Cloverfield Lane (2016)                             0.802955\n",
       "10 Items or Less (2006)                                1.000000\n",
       "10 Things I Hate About You (1999)                      0.540062\n",
       "10,000 BC (2008)                                       0.177325\n",
       "101 Dalmatians (1996)                                  0.085210\n",
       "101 Dalmatians (One Hundred and One Dalmatians)...    -0.558582\n",
       "102 Dalmatians (2000)                                  1.000000\n",
       "11:14 (2003)                                          -1.000000\n",
       "12 Angry Men (1957)                                    0.512989\n",
       "127 Hours (2010)                                       0.792118\n",
       "13 Assassins (Jûsan-nin no shikaku) (2010)             0.576557\n",
       "13th Warrior, The (1999)                              -0.324443\n",
       "1408 (2007)                                           -0.361409\n",
       "15 Minutes (2001)                                      0.333462\n",
       "16 Blocks (2006)                                       0.522976\n",
       "187 (One Eight Seven) (1997)                           1.000000\n",
       "1941 (1979)                                            1.000000\n",
       "1984 (Nineteen Eighty-Four) (1984)                     0.774597\n",
       "2 Days in the Valley (1996)                            1.000000\n",
       "2 Fast 2 Furious (Fast and the Furious 2, The) ...     0.145296\n",
       "20,000 Leagues Under the Sea (1954)                    0.000000\n",
       "2001 Maniacs (2005)                                    1.000000\n",
       "2001: A Space Odyssey (1968)                           0.042377\n",
       "2012 (2009)                                            0.577350\n",
       "21 (2008)                                             -0.044023\n",
       "21 Grams (2003)                                       -0.102062\n",
       "21 Jump Street (2012)                                 -0.188982\n",
       "22 Jump Street (2014)                                 -0.114708\n",
       "25th Hour (2002)                                      -0.283144\n",
       "...                                                         ...\n",
       "Year One (2009)                                       -1.000000\n",
       "Yellow Submarine (1968)                               -0.369761\n",
       "Yes Man (2008)                                         0.369755\n",
       "Yojimbo (1961)                                        -0.866025\n",
       "You Don't Mess with the Zohan (2008)                   0.367884\n",
       "You Only Live Twice (1967)                             1.000000\n",
       "You're Next (2011)                                    -1.000000\n",
       "You've Got Mail (1998)                                 0.655580\n",
       "You, Me and Dupree (2006)                              0.500000\n",
       "Young Frankenstein (1974)                              0.816497\n",
       "Young Guns (1988)                                      0.174928\n",
       "Young Guns II (1990)                                  -1.000000\n",
       "Young Sherlock Holmes (1985)                           1.000000\n",
       "Your Highness (2011)                                   0.993399\n",
       "Zack and Miri Make a Porno (2008)                     -0.094726\n",
       "Zebraman (2004)                                       -1.000000\n",
       "Zero Dark Thirty (2012)                                0.058124\n",
       "Zero Theorem, The (2013)                               1.000000\n",
       "Zodiac (2007)                                         -0.137361\n",
       "Zombeavers (2014)                                      1.000000\n",
       "Zombieland (2009)                                      0.248305\n",
       "Zoolander (2001)                                      -0.106864\n",
       "Zoolander 2 (2016)                                     1.000000\n",
       "Zootopia (2016)                                        0.267261\n",
       "[REC] (2007)                                          -0.595769\n",
       "[REC]² (2009)                                         -1.000000\n",
       "eXistenZ (1999)                                        0.762493\n",
       "xXx (2002)                                             1.000000\n",
       "xXx: State of the Union (2005)                         0.943880\n",
       "¡Three Amigos! (1986)                                  0.500000\n",
       "\n",
       "[2601 rows x 1 columns]"
      ]
     },
     "execution_count": 95,
     "metadata": {},
     "output_type": "execute_result"
    }
   ],
   "source": [
    "xXx_2002_corr = pd.DataFrame(movies_similar_xxx_2002 , columns = ['Correlation'])\n",
    "xXx_2002_corr.dropna(inplace = True)\n",
    "xXx_2002_corr"
   ]
  },
  {
   "cell_type": "code",
   "execution_count": null,
   "metadata": {},
   "outputs": [],
   "source": [
    " "
   ]
  },
  {
   "cell_type": "markdown",
   "metadata": {},
   "source": [
    "# Thanks to great learning"
   ]
  },
  {
   "cell_type": "code",
   "execution_count": null,
   "metadata": {},
   "outputs": [],
   "source": []
  },
  {
   "cell_type": "code",
   "execution_count": null,
   "metadata": {},
   "outputs": [],
   "source": []
  }
 ],
 "metadata": {
  "kernelspec": {
   "display_name": "Python 3",
   "language": "python",
   "name": "python3"
  },
  "language_info": {
   "codemirror_mode": {
    "name": "ipython",
    "version": 3
   },
   "file_extension": ".py",
   "mimetype": "text/x-python",
   "name": "python",
   "nbconvert_exporter": "python",
   "pygments_lexer": "ipython3",
   "version": "3.7.3"
  }
 },
 "nbformat": 4,
 "nbformat_minor": 2
}
