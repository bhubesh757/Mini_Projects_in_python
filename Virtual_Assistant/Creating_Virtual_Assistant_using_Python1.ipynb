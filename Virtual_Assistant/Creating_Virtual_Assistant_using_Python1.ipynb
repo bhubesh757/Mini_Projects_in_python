{
 "cells": [
  {
   "cell_type": "code",
   "execution_count": null,
   "metadata": {},
   "outputs": [],
   "source": [
    "# chatbots  are Two types:\n",
    "# => rule based chatbot\n",
    "# => self learning"
   ]
  },
  {
   "cell_type": "code",
   "execution_count": null,
   "metadata": {},
   "outputs": [],
   "source": [
    "# rule based :\n",
    "# => it is used to train a particular chatbot to answer the questions based on \n",
    "#their set pre determined ruled\n",
    "# self learning;\n",
    "# => it learns on their own\n",
    "# => its are more advanced technologies like ai and ml, these are naturally , \n",
    "#these are much smarter than rule based on their rule based chatbots"
   ]
  },
  {
   "cell_type": "code",
   "execution_count": null,
   "metadata": {},
   "outputs": [],
   "source": [
    "# python library\n",
    "# chatterbot is used in this!!"
   ]
  },
  {
   "cell_type": "code",
   "execution_count": null,
   "metadata": {},
   "outputs": [],
   "source": [
    "# tokenization?"
   ]
  },
  {
   "cell_type": "code",
   "execution_count": 1,
   "metadata": {},
   "outputs": [],
   "source": [
    "import nltk  # download"
   ]
  },
  {
   "cell_type": "code",
   "execution_count": 27,
   "metadata": {},
   "outputs": [
    {
     "name": "stdout",
     "output_type": "stream",
     "text": [
      "showing info https://raw.githubusercontent.com/nltk/nltk_data/gh-pages/index.xml\n"
     ]
    },
    {
     "data": {
      "text/plain": [
       "True"
      ]
     },
     "execution_count": 27,
     "metadata": {},
     "output_type": "execute_result"
    }
   ],
   "source": [
    "nltk.download()"
   ]
  },
  {
   "cell_type": "code",
   "execution_count": 10,
   "metadata": {},
   "outputs": [],
   "source": [
    "from nltk.tokenize import sent_tokenize"
   ]
  },
  {
   "cell_type": "code",
   "execution_count": 11,
   "metadata": {},
   "outputs": [],
   "source": [
    "from nltk.tokenize import word_tokenize"
   ]
  },
  {
   "cell_type": "code",
   "execution_count": 15,
   "metadata": {},
   "outputs": [],
   "source": [
    "text = \" hi am gion and i am a  chatterbot\""
   ]
  },
  {
   "cell_type": "code",
   "execution_count": 16,
   "metadata": {},
   "outputs": [
    {
     "name": "stdout",
     "output_type": "stream",
     "text": [
      "[' hi am gion and i am a  chatterbot']\n"
     ]
    }
   ],
   "source": [
    "print(sent_tokenize(text))"
   ]
  },
  {
   "cell_type": "code",
   "execution_count": 17,
   "metadata": {},
   "outputs": [
    {
     "name": "stdout",
     "output_type": "stream",
     "text": [
      "['hi', 'am', 'gion', 'and', 'i', 'am', 'a', 'chatterbot']\n"
     ]
    }
   ],
   "source": [
    "print(word_tokenize(text))"
   ]
  },
  {
   "cell_type": "code",
   "execution_count": null,
   "metadata": {},
   "outputs": [],
   "source": [
    "# limitization?\n",
    "# its another way to extract base form of words normally , aiming to remove infectional endings by using vocabulary and morphological analysis"
   ]
  },
  {
   "cell_type": "code",
   "execution_count": 21,
   "metadata": {},
   "outputs": [],
   "source": [
    "from nltk.stem import WordNetLemmatizer"
   ]
  },
  {
   "cell_type": "code",
   "execution_count": 24,
   "metadata": {},
   "outputs": [
    {
     "name": "stdout",
     "output_type": "stream",
     "text": [
      "rocks: rock\n",
      "computer: computer\n",
      "mobile: mobile\n"
     ]
    }
   ],
   "source": [
    "lemmatizer = WordNetLemmatizer()\n",
    "\n",
    "print(\"rocks:\" , lemmatizer.lemmatize(\"rocks\"))\n",
    "print(\"computer:\" , lemmatizer.lemmatize(\"computer\"))\n",
    "print(\"mobile:\" , lemmatizer.lemmatize(\"mobile\"))"
   ]
  },
  {
   "cell_type": "code",
   "execution_count": null,
   "metadata": {},
   "outputs": [],
   "source": [
    "# stemming \n",
    " # =>  it is a process of producing the morphological variants of a root / based word stemming programms are commonly referred to as stemming\n",
    "    \n",
    "    # =>  examples \n",
    "    # => likes , liking , likely \n",
    "    # => base for this words is like"
   ]
  },
  {
   "cell_type": "code",
   "execution_count": 30,
   "metadata": {},
   "outputs": [],
   "source": [
    "# import these two modules\n",
    "from nltk.stem import PorterStemmer\n",
    "from nltk.tokenize import word_tokenize"
   ]
  },
  {
   "cell_type": "code",
   "execution_count": 31,
   "metadata": {},
   "outputs": [],
   "source": [
    "ps = PorterStemmer()"
   ]
  },
  {
   "cell_type": "code",
   "execution_count": 35,
   "metadata": {},
   "outputs": [
    {
     "name": "stdout",
     "output_type": "stream",
     "text": [
      "coding  :  code\n",
      "codes  :  code\n",
      "coder  :  coder\n",
      "coders  :  coder\n"
     ]
    }
   ],
   "source": [
    "words = ['coding' , 'codes' , 'coder' , 'coders']\n",
    "\n",
    "# use for loop\n",
    "for i in words:\n",
    "    print(i, \" : \" , ps.stem(i))"
   ]
  },
  {
   "cell_type": "code",
   "execution_count": 36,
   "metadata": {},
   "outputs": [
    {
     "data": {
      "text/plain": [
       "'good'"
      ]
     },
     "execution_count": 36,
     "metadata": {},
     "output_type": "execute_result"
    }
   ],
   "source": [
    "demo = \"goods\"\n",
    "ps.stem(demo)\n"
   ]
  },
  {
   "cell_type": "code",
   "execution_count": 11,
   "metadata": {},
   "outputs": [
    {
     "name": "stdout",
     "output_type": "stream",
     "text": [
      "Collecting ChatterBot\n",
      "  Using cached https://files.pythonhosted.org/packages/12/b7/d8a034fbef04cb50fc7a9f5c6b6d27f1db186ffd58f66d7301e16abfd9ca/ChatterBot-1.1.0-py2.py3-none-any.whl\n",
      "Collecting pint>=0.8.1 (from ChatterBot)\n",
      "  Using cached https://files.pythonhosted.org/packages/66/a9/18b232462dee45443994b19254cf6fe49893ea81bc7534cb984932d59e38/Pint-0.14-py2.py3-none-any.whl\n",
      "Requirement already satisfied: nltk<4.0,>=3.2 in c:\\users\\bhubesh\\anaconda2\\lib\\site-packages (from ChatterBot) (3.4.4)\n",
      "Requirement already satisfied: pytz in c:\\users\\bhubesh\\anaconda2\\lib\\site-packages (from ChatterBot) (2019.1)\n",
      "Collecting spacy<2.2,>=2.1 (from ChatterBot)\n",
      "  Using cached https://files.pythonhosted.org/packages/41/ef/b6526a755050ddd937ef88e4a969ed9ba6854f3dd792516a692aad4bb6a7/spacy-2.1.9-cp37-cp37m-win_amd64.whl\n",
      "Requirement already satisfied: sqlalchemy<1.4,>=1.3 in c:\\users\\bhubesh\\anaconda2\\lib\\site-packages (from ChatterBot) (1.3.5)\n",
      "Collecting mathparse<0.2,>=0.1 (from ChatterBot)\n",
      "  Using cached https://files.pythonhosted.org/packages/c3/e5/4910fb85950cb960fcf3f5aabe1c8e55f5c9201788a1c1302b570a7e1f84/mathparse-0.1.2-py3-none-any.whl\n",
      "Collecting pyyaml<5.4,>=5.3 (from ChatterBot)\n",
      "  Using cached https://files.pythonhosted.org/packages/fb/aa/1a7ac452c52b93ab759d0b5b81c901ea122d95a5abf429decc660a44a2f1/PyYAML-5.3.1-cp37-cp37m-win_amd64.whl\n",
      "Requirement already satisfied: python-dateutil<2.9,>=2.8 in c:\\users\\bhubesh\\anaconda2\\lib\\site-packages (from ChatterBot) (2.8.0)\n",
      "Requirement already satisfied: setuptools in c:\\users\\bhubesh\\anaconda2\\lib\\site-packages (from pint>=0.8.1->ChatterBot) (41.0.1)\n",
      "Requirement already satisfied: packaging in c:\\users\\bhubesh\\anaconda2\\lib\\site-packages (from pint>=0.8.1->ChatterBot) (19.0)\n",
      "Requirement already satisfied: importlib-metadata; python_version < \"3.8\" in c:\\users\\bhubesh\\anaconda2\\lib\\site-packages (from pint>=0.8.1->ChatterBot) (0.17)\n",
      "Requirement already satisfied: six in c:\\users\\bhubesh\\anaconda2\\lib\\site-packages (from nltk<4.0,>=3.2->ChatterBot) (1.12.0)\n",
      "Collecting srsly<1.1.0,>=0.0.6 (from spacy<2.2,>=2.1->ChatterBot)\n",
      "  Using cached https://files.pythonhosted.org/packages/fd/31/edaf3cdb7fcb644a51c7a568bc62a8c8d7462e61fa79b090f4d12d73d39e/srsly-1.0.2-cp37-cp37m-win_amd64.whl\n",
      "Collecting wasabi<1.1.0,>=0.2.0 (from spacy<2.2,>=2.1->ChatterBot)\n",
      "Requirement already satisfied: numpy>=1.15.0 in c:\\users\\bhubesh\\anaconda2\\lib\\site-packages (from spacy<2.2,>=2.1->ChatterBot) (1.16.4)\n",
      "Collecting cymem<2.1.0,>=2.0.2 (from spacy<2.2,>=2.1->ChatterBot)\n",
      "  Using cached https://files.pythonhosted.org/packages/84/d1/35eab0c8cc9fd9432becaf3e90144762b3201a45079e62c47a8ae8739763/cymem-2.0.3-cp37-cp37m-win_amd64.whl\n",
      "Collecting preshed<2.1.0,>=2.0.1 (from spacy<2.2,>=2.1->ChatterBot)\n",
      "  Using cached https://files.pythonhosted.org/packages/b8/e3/0ec374ed2b5046073e735b6e349d759e795fc2e3c83306fbef88efa01921/preshed-2.0.1-cp37-cp37m-win_amd64.whl\n",
      "Collecting thinc<7.1.0,>=7.0.8 (from spacy<2.2,>=2.1->ChatterBot)\n",
      "  Using cached https://files.pythonhosted.org/packages/20/16/96f6c0a4301f392077c67831639e8e614e2adf45185ee6a1c6a3f0ab2299/thinc-7.0.8-cp37-cp37m-win_amd64.whl\n",
      "Collecting blis<0.3.0,>=0.2.2 (from spacy<2.2,>=2.1->ChatterBot)\n",
      "  Using cached https://files.pythonhosted.org/packages/5e/94/9da0eff97411b3e85933e8b955d2ffd353f97b65372a2861e57d59d9ad5d/blis-0.2.4-cp37-cp37m-win_amd64.whl\n",
      "Requirement already satisfied: requests<3.0.0,>=2.13.0 in c:\\users\\bhubesh\\anaconda2\\lib\\site-packages (from spacy<2.2,>=2.1->ChatterBot) (2.22.0)\n",
      "Collecting murmurhash<1.1.0,>=0.28.0 (from spacy<2.2,>=2.1->ChatterBot)\n",
      "  Using cached https://files.pythonhosted.org/packages/4f/7b/d77bc9bb101e113884b2d70a118e7ec8dcc9846a35a0e10d47ca37acdcbf/murmurhash-1.0.2-cp37-cp37m-win_amd64.whl\n",
      "Collecting plac<1.0.0,>=0.9.6 (from spacy<2.2,>=2.1->ChatterBot)\n",
      "  Using cached https://files.pythonhosted.org/packages/9e/9b/62c60d2f5bc135d2aa1d8c8a86aaf84edb719a59c7f11a4316259e61a298/plac-0.9.6-py2.py3-none-any.whl\n",
      "Requirement already satisfied: pyparsing>=2.0.2 in c:\\users\\bhubesh\\anaconda2\\lib\\site-packages (from packaging->pint>=0.8.1->ChatterBot) (2.4.0)\n",
      "Requirement already satisfied: zipp>=0.5 in c:\\users\\bhubesh\\anaconda2\\lib\\site-packages (from importlib-metadata; python_version < \"3.8\"->pint>=0.8.1->ChatterBot) (0.5.1)\n",
      "Requirement already satisfied: tqdm<5.0.0,>=4.10.0 in c:\\users\\bhubesh\\anaconda2\\lib\\site-packages (from thinc<7.1.0,>=7.0.8->spacy<2.2,>=2.1->ChatterBot) (4.32.1)\n",
      "Requirement already satisfied: urllib3!=1.25.0,!=1.25.1,<1.26,>=1.21.1 in c:\\users\\bhubesh\\anaconda2\\lib\\site-packages (from requests<3.0.0,>=2.13.0->spacy<2.2,>=2.1->ChatterBot) (1.24.2)\n",
      "Requirement already satisfied: certifi>=2017.4.17 in c:\\users\\bhubesh\\anaconda2\\lib\\site-packages (from requests<3.0.0,>=2.13.0->spacy<2.2,>=2.1->ChatterBot) (2019.6.16)\n",
      "Requirement already satisfied: chardet<3.1.0,>=3.0.2 in c:\\users\\bhubesh\\anaconda2\\lib\\site-packages (from requests<3.0.0,>=2.13.0->spacy<2.2,>=2.1->ChatterBot) (3.0.4)\n",
      "Requirement already satisfied: idna<2.9,>=2.5 in c:\\users\\bhubesh\\anaconda2\\lib\\site-packages (from requests<3.0.0,>=2.13.0->spacy<2.2,>=2.1->ChatterBot) (2.8)\n",
      "Installing collected packages: pint, srsly, wasabi, cymem, preshed, plac, blis, murmurhash, thinc, spacy, mathparse, pyyaml, ChatterBot\n",
      "  Found existing installation: PyYAML 5.1.1\n",
      "Note: you may need to restart the kernel to use updated packages.\n"
     ]
    },
    {
     "name": "stderr",
     "output_type": "stream",
     "text": [
      "ERROR: chatterbot-corpus 1.2.0 has requirement PyYAML<4.0,>=3.12, but you'll have pyyaml 5.3.1 which is incompatible.\n",
      "ERROR: Cannot uninstall 'PyYAML'. It is a distutils installed project and thus we cannot accurately determine which files belong to it which would lead to only a partial uninstall.\n"
     ]
    }
   ],
   "source": [
    "pip install ChatterBot"
   ]
  },
  {
   "cell_type": "code",
   "execution_count": 9,
   "metadata": {},
   "outputs": [
    {
     "name": "stdout",
     "output_type": "stream",
     "text": [
      "Collecting PyYAML\n",
      "  Using cached https://files.pythonhosted.org/packages/fb/aa/1a7ac452c52b93ab759d0b5b81c901ea122d95a5abf429decc660a44a2f1/PyYAML-5.3.1-cp37-cp37m-win_amd64.whl\n",
      "Installing collected packages: PyYAML\n",
      "Successfully installed PyYAML-5.3.1\n",
      "Note: you may need to restart the kernel to use updated packages.\n"
     ]
    }
   ],
   "source": [
    "pip install --ignore-installed PyYAML   # actually if you are geting any error like cannot uninstall pyYAML so , use this code to get the result"
   ]
  },
  {
   "cell_type": "code",
   "execution_count": 10,
   "metadata": {
    "scrolled": true
   },
   "outputs": [
    {
     "name": "stdout",
     "output_type": "stream",
     "text": [
      "Collecting chatterbot_corpus\n",
      "  Using cached https://files.pythonhosted.org/packages/ed/19/f8b41daf36fe4b0f43e283a820362ffdb2c1128600ab4ee187e84262fa4d/chatterbot_corpus-1.2.0-py2.py3-none-any.whl\n",
      "Collecting PyYAML<4.0,>=3.12 (from chatterbot_corpus)\n",
      "  Using cached https://files.pythonhosted.org/packages/bf/96/d02ef8e1f3073e07ffdc240444e5041f403f29c0775f9f1653f18221082f/PyYAML-3.13-cp37-cp37m-win_amd64.whl\n",
      "Installing collected packages: PyYAML, chatterbot-corpus\n",
      "  Found existing installation: PyYAML 5.3.1\n",
      "    Uninstalling PyYAML-5.3.1:\n",
      "      Successfully uninstalled PyYAML-5.3.1\n",
      "Successfully installed PyYAML-5.1.1 chatterbot-corpus-1.2.0\n",
      "Note: you may need to restart the kernel to use updated packages.\n"
     ]
    }
   ],
   "source": [
    "pip install chatterbot_corpus"
   ]
  },
  {
   "cell_type": "code",
   "execution_count": null,
   "metadata": {},
   "outputs": [],
   "source": [
    "pip uninstall chatterbot_corpus"
   ]
  },
  {
   "cell_type": "code",
   "execution_count": null,
   "metadata": {},
   "outputs": [],
   "source": []
  },
  {
   "cell_type": "code",
   "execution_count": null,
   "metadata": {},
   "outputs": [],
   "source": []
  },
  {
   "cell_type": "code",
   "execution_count": null,
   "metadata": {},
   "outputs": [],
   "source": []
  },
  {
   "cell_type": "code",
   "execution_count": null,
   "metadata": {},
   "outputs": [],
   "source": []
  },
  {
   "cell_type": "code",
   "execution_count": null,
   "metadata": {},
   "outputs": [],
   "source": []
  },
  {
   "cell_type": "code",
   "execution_count": null,
   "metadata": {},
   "outputs": [],
   "source": []
  },
  {
   "cell_type": "code",
   "execution_count": null,
   "metadata": {},
   "outputs": [],
   "source": []
  },
  {
   "cell_type": "code",
   "execution_count": null,
   "metadata": {},
   "outputs": [],
   "source": []
  },
  {
   "cell_type": "code",
   "execution_count": null,
   "metadata": {},
   "outputs": [],
   "source": []
  },
  {
   "cell_type": "code",
   "execution_count": null,
   "metadata": {},
   "outputs": [],
   "source": []
  },
  {
   "cell_type": "code",
   "execution_count": null,
   "metadata": {},
   "outputs": [],
   "source": []
  },
  {
   "cell_type": "code",
   "execution_count": null,
   "metadata": {},
   "outputs": [],
   "source": []
  }
 ],
 "metadata": {
  "kernelspec": {
   "display_name": "Python 3",
   "language": "python",
   "name": "python3"
  },
  "language_info": {
   "codemirror_mode": {
    "name": "ipython",
    "version": 3
   },
   "file_extension": ".py",
   "mimetype": "text/x-python",
   "name": "python",
   "nbconvert_exporter": "python",
   "pygments_lexer": "ipython3",
   "version": "3.7.3"
  }
 },
 "nbformat": 4,
 "nbformat_minor": 2
}
