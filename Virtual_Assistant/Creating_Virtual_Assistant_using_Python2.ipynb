{
  "nbformat": 4,
  "nbformat_minor": 0,
  "metadata": {
    "colab": {
      "name": "Creating_Virtual_Assistant_using_Python.ipynb",
      "provenance": [],
      "private_outputs": true
    },
    "kernelspec": {
      "name": "python3",
      "display_name": "Python 3"
    }
  },
  "cells": [
    {
      "cell_type": "code",
      "metadata": {
        "id": "FQof1o6Z_dS0",
        "colab_type": "code",
        "colab": {}
      },
      "source": [
        "pip install ChatterBot"
      ],
      "execution_count": null,
      "outputs": []
    },
    {
      "cell_type": "code",
      "metadata": {
        "id": "8RBdJOVbalMJ",
        "colab_type": "code",
        "colab": {}
      },
      "source": [
        "pip install chatterbot_corpus"
      ],
      "execution_count": null,
      "outputs": []
    },
    {
      "cell_type": "code",
      "metadata": {
        "id": "-Wh6W_66alKz",
        "colab_type": "code",
        "colab": {}
      },
      "source": [
        "from chatterbot import ChatBot"
      ],
      "execution_count": null,
      "outputs": []
    },
    {
      "cell_type": "code",
      "metadata": {
        "id": "nf4OxLZ0bfh2",
        "colab_type": "code",
        "colab": {}
      },
      "source": [
        "from chatterbot.trainers import ListTrainer"
      ],
      "execution_count": null,
      "outputs": []
    },
    {
      "cell_type": "code",
      "metadata": {
        "id": "C1YL3hiValJ8",
        "colab_type": "code",
        "colab": {}
      },
      "source": [
        "your_bot = ChatBot(name = \"jinki\" , read_only = True,logic_adapters=['chatterbot.logic.MathematicalEvaluation' , 'chatterbot.logic.BestMatch'])"
      ],
      "execution_count": null,
      "outputs": []
    },
    {
      "cell_type": "code",
      "metadata": {
        "id": "cM8AreB9alJF",
        "colab_type": "code",
        "colab": {}
      },
      "source": [
        "greetings = ['hi' , 'hello' , 'how are you' , 'i am fine' , 'nice to meet you']"
      ],
      "execution_count": null,
      "outputs": []
    },
    {
      "cell_type": "code",
      "metadata": {
        "id": "3-QGQiIhalIP",
        "colab_type": "code",
        "colab": {}
      },
      "source": [
        "formula1 =[\"(a+b)^2\" , 'a^2 + 2ab + b^2']"
      ],
      "execution_count": null,
      "outputs": []
    },
    {
      "cell_type": "code",
      "metadata": {
        "id": "K5fLU7_BalHZ",
        "colab_type": "code",
        "colab": {}
      },
      "source": [
        "formula2 = ['sin/cos'  , 'tan']"
      ],
      "execution_count": null,
      "outputs": []
    },
    {
      "cell_type": "code",
      "metadata": {
        "id": "1_UtuewzalGj",
        "colab_type": "code",
        "colab": {}
      },
      "source": [
        "physics1 = ['E=?' , 'hc/lambda']"
      ],
      "execution_count": null,
      "outputs": []
    },
    {
      "cell_type": "code",
      "metadata": {
        "id": "b5AYFOoSalFa",
        "colab_type": "code",
        "colab": {}
      },
      "source": [
        "physics2 = ['newtons 3rd law' , \"Newton's third law is: For every action, there is an equal and opposite reaction. The statement means that in every interaction, there is a pair of forces acting on the two interacting objects. The size of the forces on the first object equals the size of the force on the second object\"]"
      ],
      "execution_count": null,
      "outputs": []
    },
    {
      "cell_type": "code",
      "metadata": {
        "id": "y2Rl86E3alEL",
        "colab_type": "code",
        "colab": {}
      },
      "source": [
        "chemistry = ['mole' , 'The mole is the unit of amount in chemistry.  It provides a bridge between the atom and the macroscopic amounts of material that we work with in the laboratory']"
      ],
      "execution_count": null,
      "outputs": []
    },
    {
      "cell_type": "code",
      "metadata": {
        "id": "DgjEQc8aalDL",
        "colab_type": "code",
        "colab": {}
      },
      "source": [
        "physics = [' current formula' , 'i = v/r']"
      ],
      "execution_count": null,
      "outputs": []
    },
    {
      "cell_type": "code",
      "metadata": {
        "id": "lmpHC1KIalB1",
        "colab_type": "code",
        "colab": {}
      },
      "source": [
        "train_yourbot = ListTrainer(your_bot)"
      ],
      "execution_count": null,
      "outputs": []
    },
    {
      "cell_type": "code",
      "metadata": {
        "id": "z08OonbvalAR",
        "colab_type": "code",
        "colab": {}
      },
      "source": [
        "for item in (greetings ,formula1 ,formula2 , physics1 , physics2, chemistry , physics):\n",
        "  train_yourbot.train(item)"
      ],
      "execution_count": null,
      "outputs": []
    },
    {
      "cell_type": "code",
      "metadata": {
        "id": "kajSv0gYak_Q",
        "colab_type": "code",
        "colab": {}
      },
      "source": [
        "print(your_bot.get_response('hi'))"
      ],
      "execution_count": null,
      "outputs": []
    },
    {
      "cell_type": "code",
      "metadata": {
        "id": "2O0vF7lGak-O",
        "colab_type": "code",
        "colab": {}
      },
      "source": [
        " print(your_bot.get_response('how are you?'))"
      ],
      "execution_count": null,
      "outputs": []
    },
    {
      "cell_type": "code",
      "metadata": {
        "id": "gXzgTHvZlKEl",
        "colab_type": "code",
        "colab": {}
      },
      "source": [
        "print(your_bot.get_response(' what is tan'))"
      ],
      "execution_count": null,
      "outputs": []
    },
    {
      "cell_type": "code",
      "metadata": {
        "id": "KB-9LluPlKPS",
        "colab_type": "code",
        "colab": {}
      },
      "source": [
        "print(your_bot.get_response('what is newton 3rd law'))"
      ],
      "execution_count": null,
      "outputs": []
    },
    {
      "cell_type": "code",
      "metadata": {
        "id": "ZXM4ok5ulKOQ",
        "colab_type": "code",
        "colab": {}
      },
      "source": [
        "print(your_bot.get_response('current'))"
      ],
      "execution_count": null,
      "outputs": []
    },
    {
      "cell_type": "code",
      "metadata": {
        "id": "iwwQgmB8lKNE",
        "colab_type": "code",
        "colab": {}
      },
      "source": [
        "print(your_bot.get_response('E = ?'))"
      ],
      "execution_count": null,
      "outputs": []
    },
    {
      "cell_type": "code",
      "metadata": {
        "id": "DAs8v9GYlKJx",
        "colab_type": "code",
        "colab": {}
      },
      "source": [
        "print(your_bot.get_response('how are you'))"
      ],
      "execution_count": null,
      "outputs": []
    },
    {
      "cell_type": "code",
      "metadata": {
        "id": "9jzYN9AElKHf",
        "colab_type": "code",
        "colab": {}
      },
      "source": [
        ""
      ],
      "execution_count": null,
      "outputs": []
    },
    {
      "cell_type": "code",
      "metadata": {
        "id": "WLMSrnfqlKCE",
        "colab_type": "code",
        "colab": {}
      },
      "source": [
        ""
      ],
      "execution_count": null,
      "outputs": []
    },
    {
      "cell_type": "code",
      "metadata": {
        "id": "ZPoK1Kysak9V",
        "colab_type": "code",
        "colab": {}
      },
      "source": [
        ""
      ],
      "execution_count": null,
      "outputs": []
    },
    {
      "cell_type": "code",
      "metadata": {
        "id": "jEhKhMwRak8W",
        "colab_type": "code",
        "colab": {}
      },
      "source": [
        ""
      ],
      "execution_count": null,
      "outputs": []
    },
    {
      "cell_type": "code",
      "metadata": {
        "id": "QEk-5cIPak7R",
        "colab_type": "code",
        "colab": {}
      },
      "source": [
        ""
      ],
      "execution_count": null,
      "outputs": []
    }
  ]
}