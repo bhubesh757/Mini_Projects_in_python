{
 "cells": [
  {
   "cell_type": "markdown",
   "metadata": {},
   "source": [
    "# Text To Speech Tool Using NLP"
   ]
  },
  {
   "cell_type": "markdown",
   "metadata": {},
   "source": [
    "# Natural Language Processing"
   ]
  },
  {
   "cell_type": "code",
   "execution_count": 1,
   "metadata": {},
   "outputs": [],
   "source": [
    "import nltk"
   ]
  },
  {
   "cell_type": "code",
   "execution_count": 2,
   "metadata": {},
   "outputs": [],
   "source": [
    "# corpus is the collection of huge data of colection \n",
    "import nltk.corpus"
   ]
  },
  {
   "cell_type": "code",
   "execution_count": 3,
   "metadata": {},
   "outputs": [],
   "source": [
    "# what is token? or tokenizaition?\n",
    "# communiating through the bot\n",
    "from nltk.tokenize import word_tokenize"
   ]
  },
  {
   "cell_type": "code",
   "execution_count": 4,
   "metadata": {},
   "outputs": [],
   "source": [
    "cricket = 'ms dhoni is the cricketer , which he has a fan base in chennai'"
   ]
  },
  {
   "cell_type": "code",
   "execution_count": 5,
   "metadata": {},
   "outputs": [
    {
     "data": {
      "text/plain": [
       "['ms',\n",
       " 'dhoni',\n",
       " 'is',\n",
       " 'the',\n",
       " 'cricketer',\n",
       " ',',\n",
       " 'which',\n",
       " 'he',\n",
       " 'has',\n",
       " 'a',\n",
       " 'fan',\n",
       " 'base',\n",
       " 'in',\n",
       " 'chennai']"
      ]
     },
     "execution_count": 5,
     "metadata": {},
     "output_type": "execute_result"
    }
   ],
   "source": [
    "word_tokenize(cricket)  # the each is converted in to the token!!"
   ]
  },
  {
   "cell_type": "code",
   "execution_count": null,
   "metadata": {},
   "outputs": [],
   "source": [
    "# components to the sub-components"
   ]
  },
  {
   "cell_type": "code",
   "execution_count": 6,
   "metadata": {},
   "outputs": [],
   "source": [
    "# sentence tokenizer\n",
    "from nltk.tokenize import sent_tokenize"
   ]
  },
  {
   "cell_type": "code",
   "execution_count": 10,
   "metadata": {},
   "outputs": [],
   "source": [
    "cricket2  = 'ms dhoni is the great cricketer , which he has a fan base in chennai. virat kohli is the captain '"
   ]
  },
  {
   "cell_type": "code",
   "execution_count": 11,
   "metadata": {},
   "outputs": [
    {
     "data": {
      "text/plain": [
       "['ms dhoni is the great cricketer , which he has a fan base in chennai.',\n",
       " 'virat kohli is the captain']"
      ]
     },
     "execution_count": 11,
     "metadata": {},
     "output_type": "execute_result"
    }
   ],
   "source": [
    "sent_tokenize(cricket2)"
   ]
  },
  {
   "cell_type": "code",
   "execution_count": 12,
   "metadata": {},
   "outputs": [
    {
     "data": {
      "text/plain": [
       "14"
      ]
     },
     "execution_count": 12,
     "metadata": {},
     "output_type": "execute_result"
    }
   ],
   "source": [
    "# to check the length of the token\n",
    "len(word_tokenize(cricket))"
   ]
  },
  {
   "cell_type": "markdown",
   "metadata": {},
   "source": [
    "# Bi-grams and n- grams"
   ]
  },
  {
   "cell_type": "code",
   "execution_count": 17,
   "metadata": {},
   "outputs": [],
   "source": [
    "astronaut = 'can somebody hear me or i am talking to myself my mind is running empty in the search of something '"
   ]
  },
  {
   "cell_type": "code",
   "execution_count": 18,
   "metadata": {},
   "outputs": [],
   "source": [
    "astronaut_token = (word_tokenize(astronaut))"
   ]
  },
  {
   "cell_type": "code",
   "execution_count": 19,
   "metadata": {},
   "outputs": [
    {
     "data": {
      "text/plain": [
       "[('can', 'somebody'),\n",
       " ('somebody', 'hear'),\n",
       " ('hear', 'me'),\n",
       " ('me', 'or'),\n",
       " ('or', 'i'),\n",
       " ('i', 'am'),\n",
       " ('am', 'talking'),\n",
       " ('talking', 'to'),\n",
       " ('to', 'myself'),\n",
       " ('myself', 'my'),\n",
       " ('my', 'mind'),\n",
       " ('mind', 'is'),\n",
       " ('is', 'running'),\n",
       " ('running', 'empty'),\n",
       " ('empty', 'in'),\n",
       " ('in', 'the'),\n",
       " ('the', 'search'),\n",
       " ('search', 'of'),\n",
       " ('of', 'something')]"
      ]
     },
     "execution_count": 19,
     "metadata": {},
     "output_type": "execute_result"
    }
   ],
   "source": [
    "list(nltk.bigrams(astronaut_token))"
   ]
  },
  {
   "cell_type": "code",
   "execution_count": null,
   "metadata": {},
   "outputs": [],
   "source": [
    "# bigrams ?\n"
   ]
  },
  {
   "cell_type": "code",
   "execution_count": 23,
   "metadata": {},
   "outputs": [
    {
     "data": {
      "text/plain": [
       "[('can', 'somebody', 'hear'),\n",
       " ('somebody', 'hear', 'me'),\n",
       " ('hear', 'me', 'or'),\n",
       " ('me', 'or', 'i'),\n",
       " ('or', 'i', 'am'),\n",
       " ('i', 'am', 'talking'),\n",
       " ('am', 'talking', 'to'),\n",
       " ('talking', 'to', 'myself'),\n",
       " ('to', 'myself', 'my'),\n",
       " ('myself', 'my', 'mind'),\n",
       " ('my', 'mind', 'is'),\n",
       " ('mind', 'is', 'running'),\n",
       " ('is', 'running', 'empty'),\n",
       " ('running', 'empty', 'in'),\n",
       " ('empty', 'in', 'the'),\n",
       " ('in', 'the', 'search'),\n",
       " ('the', 'search', 'of'),\n",
       " ('search', 'of', 'something')]"
      ]
     },
     "execution_count": 23,
     "metadata": {},
     "output_type": "execute_result"
    }
   ],
   "source": [
    "list(nltk.trigrams(astronaut_token))"
   ]
  },
  {
   "cell_type": "code",
   "execution_count": 27,
   "metadata": {},
   "outputs": [
    {
     "data": {
      "text/plain": [
       "[('can', 'somebody', 'hear', 'me', 'or'),\n",
       " ('somebody', 'hear', 'me', 'or', 'i'),\n",
       " ('hear', 'me', 'or', 'i', 'am'),\n",
       " ('me', 'or', 'i', 'am', 'talking'),\n",
       " ('or', 'i', 'am', 'talking', 'to'),\n",
       " ('i', 'am', 'talking', 'to', 'myself'),\n",
       " ('am', 'talking', 'to', 'myself', 'my'),\n",
       " ('talking', 'to', 'myself', 'my', 'mind'),\n",
       " ('to', 'myself', 'my', 'mind', 'is'),\n",
       " ('myself', 'my', 'mind', 'is', 'running'),\n",
       " ('my', 'mind', 'is', 'running', 'empty'),\n",
       " ('mind', 'is', 'running', 'empty', 'in'),\n",
       " ('is', 'running', 'empty', 'in', 'the'),\n",
       " ('running', 'empty', 'in', 'the', 'search'),\n",
       " ('empty', 'in', 'the', 'search', 'of'),\n",
       " ('in', 'the', 'search', 'of', 'something')]"
      ]
     },
     "execution_count": 27,
     "metadata": {},
     "output_type": "execute_result"
    }
   ],
   "source": [
    "list(nltk.ngrams(astronaut_token,5))"
   ]
  },
  {
   "cell_type": "code",
   "execution_count": null,
   "metadata": {},
   "outputs": [],
   "source": [
    "# stemming?\n"
   ]
  },
  {
   "cell_type": "code",
   "execution_count": 29,
   "metadata": {},
   "outputs": [],
   "source": [
    "from nltk.stem import PorterStemmer"
   ]
  },
  {
   "cell_type": "code",
   "execution_count": 37,
   "metadata": {},
   "outputs": [],
   "source": [
    "my_stem = PorterStemmer()"
   ]
  },
  {
   "cell_type": "code",
   "execution_count": 35,
   "metadata": {},
   "outputs": [
    {
     "data": {
      "text/plain": [
       "'run'"
      ]
     },
     "execution_count": 35,
     "metadata": {},
     "output_type": "execute_result"
    }
   ],
   "source": [
    "my_stem .stem('running')"
   ]
  },
  {
   "cell_type": "code",
   "execution_count": 47,
   "metadata": {},
   "outputs": [
    {
     "data": {
      "text/plain": [
       "'love'"
      ]
     },
     "execution_count": 47,
     "metadata": {},
     "output_type": "execute_result"
    }
   ],
   "source": [
    "my_stem.stem('loving')"
   ]
  },
  {
   "cell_type": "code",
   "execution_count": 48,
   "metadata": {},
   "outputs": [
    {
     "data": {
      "text/plain": [
       "'go'"
      ]
     },
     "execution_count": 48,
     "metadata": {},
     "output_type": "execute_result"
    }
   ],
   "source": [
    "my_stem.stem('going')"
   ]
  },
  {
   "cell_type": "markdown",
   "metadata": {},
   "source": [
    "# Pos - Tagging"
   ]
  },
  {
   "cell_type": "code",
   "execution_count": 11,
   "metadata": {},
   "outputs": [],
   "source": [
    "# parts of speech\n",
    "vijay = 'Vijay is the Best Actor in India '"
   ]
  },
  {
   "cell_type": "code",
   "execution_count": 12,
   "metadata": {},
   "outputs": [],
   "source": [
    "vijay_token = word_tokenize(vijay)"
   ]
  },
  {
   "cell_type": "code",
   "execution_count": 13,
   "metadata": {},
   "outputs": [
    {
     "data": {
      "text/plain": [
       "[('Vijay', 'NNP'),\n",
       " ('is', 'VBZ'),\n",
       " ('the', 'DT'),\n",
       " ('Best', 'JJS'),\n",
       " ('Actor', 'NN'),\n",
       " ('in', 'IN'),\n",
       " ('India', 'NNP')]"
      ]
     },
     "execution_count": 13,
     "metadata": {},
     "output_type": "execute_result"
    }
   ],
   "source": [
    "nltk.pos_tag(vijay_token)\n",
    "# check the abbrevairtions of that each word!"
   ]
  },
  {
   "cell_type": "code",
   "execution_count": 53,
   "metadata": {},
   "outputs": [
    {
     "name": "stdout",
     "output_type": "stream",
     "text": [
      "showing info https://raw.githubusercontent.com/nltk/nltk_data/gh-pages/index.xml\n"
     ]
    },
    {
     "data": {
      "text/plain": [
       "True"
      ]
     },
     "execution_count": 53,
     "metadata": {},
     "output_type": "execute_result"
    }
   ],
   "source": [
    "nltk.download()"
   ]
  },
  {
   "cell_type": "markdown",
   "metadata": {},
   "source": [
    "# Named Entity Recognisation"
   ]
  },
  {
   "cell_type": "code",
   "execution_count": 6,
   "metadata": {},
   "outputs": [],
   "source": [
    "from nltk import ne_chunk"
   ]
  },
  {
   "cell_type": "code",
   "execution_count": 7,
   "metadata": {},
   "outputs": [],
   "source": [
    "prime_minister = 'narendra modi was the prime minister of india'\n"
   ]
  },
  {
   "cell_type": "code",
   "execution_count": 8,
   "metadata": {},
   "outputs": [],
   "source": [
    "prime_minister_token = word_tokenize(prime_minister)"
   ]
  },
  {
   "cell_type": "code",
   "execution_count": 9,
   "metadata": {},
   "outputs": [],
   "source": [
    "prime_minister_pos = nltk.pos_tag(prime_minister_token)"
   ]
  },
  {
   "cell_type": "code",
   "execution_count": 13,
   "metadata": {},
   "outputs": [
    {
     "name": "stdout",
     "output_type": "stream",
     "text": [
      "showing info https://raw.githubusercontent.com/nltk/nltk_data/gh-pages/index.xml\n"
     ]
    },
    {
     "data": {
      "text/plain": [
       "True"
      ]
     },
     "execution_count": 13,
     "metadata": {},
     "output_type": "execute_result"
    }
   ],
   "source": [
    "nltk.download()"
   ]
  },
  {
   "cell_type": "code",
   "execution_count": 14,
   "metadata": {},
   "outputs": [
    {
     "name": "stdout",
     "output_type": "stream",
     "text": [
      "(S\n",
      "  narendra/JJ\n",
      "  modi/NN\n",
      "  was/VBD\n",
      "  the/DT\n",
      "  prime/JJ\n",
      "  minister/NN\n",
      "  of/IN\n",
      "  india/NN)\n"
     ]
    }
   ],
   "source": [
    "print(ne_chunk(prime_minister_pos))"
   ]
  },
  {
   "cell_type": "code",
   "execution_count": null,
   "metadata": {},
   "outputs": [],
   "source": []
  },
  {
   "cell_type": "markdown",
   "metadata": {},
   "source": [
    "# converting words to speech"
   ]
  },
  {
   "cell_type": "code",
   "execution_count": 15,
   "metadata": {},
   "outputs": [
    {
     "name": "stdout",
     "output_type": "stream",
     "text": [
      "Collecting gTTS\n",
      "  Downloading https://files.pythonhosted.org/packages/a1/0c/4ca77eca3b739a4a08360930643f58d714e302fee0d2f8c654e67d9af8e7/gTTS-2.1.1-py3-none-any.whl\n",
      "Requirement already satisfied: six in c:\\users\\bhubesh\\anaconda2\\lib\\site-packages (from gTTS) (1.12.0)\n",
      "Requirement already satisfied: click in c:\\users\\bhubesh\\anaconda2\\lib\\site-packages (from gTTS) (7.0)\n",
      "Collecting gtts-token>=1.1.3 (from gTTS)\n",
      "  Downloading https://files.pythonhosted.org/packages/e7/25/ca6e9cd3275bfc3097fe6b06cc31db6d3dfaf32e032e0f73fead9c9a03ce/gTTS-token-1.1.3.tar.gz\n",
      "Requirement already satisfied: requests in c:\\users\\bhubesh\\anaconda2\\lib\\site-packages (from gTTS) (2.22.0)\n",
      "Requirement already satisfied: beautifulsoup4 in c:\\users\\bhubesh\\anaconda2\\lib\\site-packages (from gTTS) (4.7.1)\n",
      "Requirement already satisfied: urllib3!=1.25.0,!=1.25.1,<1.26,>=1.21.1 in c:\\users\\bhubesh\\anaconda2\\lib\\site-packages (from requests->gTTS) (1.24.2)\n",
      "Requirement already satisfied: idna<2.9,>=2.5 in c:\\users\\bhubesh\\anaconda2\\lib\\site-packages (from requests->gTTS) (2.8)\n",
      "Requirement already satisfied: chardet<3.1.0,>=3.0.2 in c:\\users\\bhubesh\\anaconda2\\lib\\site-packages (from requests->gTTS) (3.0.4)\n",
      "Requirement already satisfied: certifi>=2017.4.17 in c:\\users\\bhubesh\\anaconda2\\lib\\site-packages (from requests->gTTS) (2019.6.16)\n",
      "Requirement already satisfied: soupsieve>=1.2 in c:\\users\\bhubesh\\anaconda2\\lib\\site-packages (from beautifulsoup4->gTTS) (1.8)\n",
      "Building wheels for collected packages: gtts-token\n",
      "  Building wheel for gtts-token (setup.py): started\n",
      "  Building wheel for gtts-token (setup.py): finished with status 'done'\n",
      "  Stored in directory: C:\\Users\\BHUBESH\\AppData\\Local\\pip\\Cache\\wheels\\dd\\11\\61\\33f7e51bf545e910552b2255eead2a7cd8ef54064b46dceb34\n",
      "Successfully built gtts-token\n",
      "Installing collected packages: gtts-token, gTTS\n",
      "Successfully installed gTTS-2.1.1 gtts-token-1.1.3\n",
      "Note: you may need to restart the kernel to use updated packages.\n"
     ]
    }
   ],
   "source": [
    "pip install gTTS"
   ]
  },
  {
   "cell_type": "code",
   "execution_count": 17,
   "metadata": {},
   "outputs": [],
   "source": [
    "from gtts import gTTS"
   ]
  },
  {
   "cell_type": "code",
   "execution_count": 18,
   "metadata": {},
   "outputs": [],
   "source": [
    "from IPython.display import Audio"
   ]
  },
  {
   "cell_type": "code",
   "execution_count": 19,
   "metadata": {},
   "outputs": [],
   "source": [
    "tts = gTTS('ms dhoni is the cricketer , which he has a fan base in chennai') # text to speech"
   ]
  },
  {
   "cell_type": "code",
   "execution_count": 20,
   "metadata": {},
   "outputs": [],
   "source": [
    "tts.save('1.wav')"
   ]
  },
  {
   "cell_type": "code",
   "execution_count": 21,
   "metadata": {},
   "outputs": [],
   "source": [
    "sound_file = '1.wav'"
   ]
  },
  {
   "cell_type": "code",
   "execution_count": 22,
   "metadata": {},
   "outputs": [
    {
     "data": {
      "text/html": [
       "\n",
       "                <audio  controls=\"controls\" autoplay=\"autoplay\">\n",
       "                    <source src=\"data:audio/wav;base64,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\" type=\"audio/wav\" />\n",
       "                    Your browser does not support the audio element.\n",
       "                </audio>\n",
       "              "
      ],
      "text/plain": [
       "<IPython.lib.display.Audio object>"
      ]
     },
     "execution_count": 22,
     "metadata": {},
     "output_type": "execute_result"
    }
   ],
   "source": [
    "Audio(sound_file , autoplay = True)"
   ]
  },
  {
   "cell_type": "code",
   "execution_count": 34,
   "metadata": {},
   "outputs": [],
   "source": [
    "tts2 = gTTS('hi i am kiki , you are looking cool ')"
   ]
  },
  {
   "cell_type": "code",
   "execution_count": 35,
   "metadata": {},
   "outputs": [],
   "source": [
    "tts2.save('2.wav')"
   ]
  },
  {
   "cell_type": "code",
   "execution_count": 36,
   "metadata": {},
   "outputs": [],
   "source": [
    "sound_file1 = '2.wav'"
   ]
  },
  {
   "cell_type": "code",
   "execution_count": 37,
   "metadata": {},
   "outputs": [
    {
     "data": {
      "text/html": [
       "\n",
       "                <audio  controls=\"controls\" autoplay=\"autoplay\">\n",
       "                    <source src=\"data:audio/wav;base64,//NExAARYCYgAMPEAA+htuPPBMAxHoQPUTuQsHCZkoJyA4AF4WOXwibCPrD4gcUdE9YfU6pxAMTgPlwsCBPLxU2cpk7Ai85h8CEygD8h1DJRwfUyaSJtWyBn9f9c7L4v//NExA0RcLJYAMsSTEYWOXbJZ+IYGG81ogAILNpAgYOAghBMNk9rt74YufIS6i5CrJ4gXXXj3VxjS+rYiZYLM2f9WPZ/pQShm8BPpNVE+HAjEev0MbhrTg/RhdS3q5CF//NExBoYIepwAMPMmdIgnhSM0NVspPzjOVHl/JfFhwXOHHY/esfer3ve9NX8PsEE7bLTKACBwRN3bIZCGX75iH8STWYZjEEPd/xv/vtH/s/eyHD1KDr9JSxhDFGsWP3t//NExAwT+YKUAGPQlKhv4quhofM8irhDDrZlWf463NhVx+XxnctnjZqu//9RXHMu1xfNxVCcsFYfntul1PFHsqRlmIDADWfVOIVgcufLnOgmrZfACUpzuNPjFWq0tp+X//NExA8VEZKsAMPKlDNSGgqGqLONwTCZSrUEnCgal+RmnkfWm/rj+v9v/qS9nQk5hMUhQOJTo6IxkE1caQUD4sRyFFyOcH8LyBFpxZSEVMS5miqnz5cQ7hVin5TlHGI2//NExA0UGZK4AMYElOz2oqo20arUqIY9aCp+YHBD0ITR4rQdGmpc5qB/z5uvll/4fT/9KdHChDEQKh73FTGUqXYICYw7AMss6SK1Pqyjgf01pM8bSaJG5IbmGxKK3huk//NExA8WWfqwAM0KmQCQwki0yuKgDm6i+OaDVEA0NUN9hZQKLyJpokODkCQZUjG0TvWv7+iZjj6GEhIoqiJRRHmUnMPGChhFmde/ZO3ZyxokDhCyI0k/qoF/V1OwsrMT//NExAgT+gK0AMZEmHhiNRl2GpSOlsdv8lDShNupSUiyg7uKRrkyjC2e5MWIfX5vmqCzz/3Y///f//gzIibLUiszmGd3dqr+rUQKZeX//5StqDBiz7H/uGh8OR3L9wwR//NExAsU4Ya0AM5ElJXFjCnHD5RjORBP0HvRemi0vRAg7VXJI55991NpIxehoKjzSzDv5CCNV+Ui3U58oEMJvbmdnzWsYtqODBkFRV//EZUgD4KjlpXPtXCbAXKXmDSU//NExAoTiTKwAMYQcGVgstlsZJAo+uLMyl+QfFAbAv0zcozS8+gfo68oBIAMdch6KmlQJQu7oS8d79zFTXLA0KhlPkKF9joqYJqDkj/osMW0qqLuVdDoZFzlfWmOX89V//NExA4T6gaoAMSOmMIbHeeMi+DQgGFZVZN+YH+r1mzqWcI02PsakPSWu6OYQcHj4rCwORoNCkWOpVyOlH6kecVdmMKX///PRz3MH4ovTfz7i/Q2vCqTu1nbdkgxgMM0//NExBERsUKsAMwQcFIhOKiWdLym0v9//de4fSqmgsE+qETMyIIrzjRYVaiwFyPgQLhRsceYGWBRy/8lCI6r////qa2s6hCcslT456UJ5/agBuIgjOBnwxE8sksptvX///NExB0RcVKsAMRQlM7/gRxyxIvUeKK3g+X1QPv+z14056xLLLcJXXf44VeIA84Lnf///+mlndbrEBY+BO2rUFKx5crsIA2kbC2H2ACI7XZYns1p0m9/S6m8SDgn4QOD//NExCoSqY6oAMyQlL8iZiw8EY49xS6iBx0R3Ve9fRCqsDCWc9y/6RiSANEwilag74PSy3UIdUUxEArxePLDB4nZKsdY7q2mv2z/uv+7U/Mgij7Kfuxipfg6REDC8mHQ//NExDIRGQqwAJyMcDhX4YCYbNhn/4ecICdLv////XWWXtVRVY83LHbSIVzOIBZycUl1BReGvewpHEv/8xLea0RXyWLP0SLdCGEYBV6Lblxk1Lk19wLJW9qfjbFhX/6C//NExEASQRqwAMYQcOJiSiVv////lJnmo+OSw3U3pj3ddYwoO2P3MIQB6rtdhH0bJpjPKuMQIecd+tXxANyNnOGx6gzbnbM16HJZ0YxVbRmaxfOVmDjHl/+MCI0UKyru//NExEoSOYKsAMvElFuJGyi/sdRxpnO5CgkIs8YgF4OtdvVxam+7VXnfyrv9lvkButWr0K74FnbXatKWxH9/p0stTggzPTpN3rH8UTHoNwfH/6zJGVq3+VKT6g6/hbVb//NExFQSYXqoAMYGlIZ1B10sv0jSw+Mh7KS640WpLdtAz5lAchUiZjwPmqZmCoRJQ6TGdBn6ug2blx2RpNzVkFl9Gik6hzjVFaazp4h8x1a1pFTu+LIQkwLVbsFAp8v1//NExF0RWT6oAMYacCZbQ+GbjESLaPpN0qg8CSuGHDTQYFFW6NMgF/cpu1KbNANSi+Uv0GTAhC0snsXJrkqV7hxVqFqIJ52UsYXWfAJdbuCc0W5pJSRbwWmBzUlaCwvN//NExGoUgYasAM4GlJrKsb6fOVihgTueLRXNvTUELeg6fa221/OVz5cAD9D/kuzbsxG5lwvqZk8AlCCgqQQ8uSL/7KZdu56WDB7p/DMRDx/BPaEdqjM1xSucHRgq1H+a//NExGsT8X60AMYGlDLO6rt3kP/qXfu+xKvYvrAtimZt05PBgJO+1/82WwuWlN83NzdT/7/XfP9JfuKm7PFS7mvs+VasopV/MbiLokSzqC0AVj8027O5pA1q9WhLC6O9//NExG4VEYqwAMYMlF5te3fuzn/nl/6pd61KJFjUguGs5gI3dBnTxoNu6dJis6plGl4uEX0q97NXF0vg1xQ8uv3awvEqhnvvqV0vZQCRAyvR9dWflMBXieOk4DbhuaoC//NExGwUKZa0AMYQlMw+isfbVndZx8sPSKBktEsAFywfTFCspQq73Q7Gw3aryvy38f8LoRNSMitdXLuXvvu///+qpue3Qeb+ngUjrslY7XrD5CtIuaDGC7JxjAkzRkCo//NExG4T8Y60AMSQlJ0DTUl1cyUpQRBWGFWok+ICyqcVKc4qp2NI3++yVqWgiWRp+ig4mpb9hmREnt5/mo3K6e7y2XjBK0sbMtFUP1cj7IrWqeCZ37FPjUCahWoVsCHE//NExHERIY64AMRKlAAOjH56zzOABhxAVJjmjmO3NeLvf/8vVZfldEJVu5W0EPOx9rleqh+w6dnBCEmbuNp2zliUNN5n2FYfFeyecycgxKDAA+1c/PvmtfLluiJycVNs//NExH8Q6RawAMYEcHNmZoWD/7fy0kqT7rhQb31JWXit5zjHfrocZPQWjMW9fa2k1lSMYorlyAO77b/l2e18q/soiOGEAB05xqNckhXZVRhoYjMrSvpq36VKOw3qoNzR//NExI4RGRawAMYMcASrbnCcFFhm1HukZL+LdSdUnoUZVa/yUDx5KpDzsoNqA7s6IlJwmyEnFanY/bqf90WWbqVREc9cuxyuj/b/7f/+itZTJlS9tOh0TlpOLziv4J72//NExJwRcXqwAMYKlTNVQa9K4MAjh1RD3KJzyuHHyqr5sXnLGSNQPIhCfi05gjqpg6dEg19+mRWhSJZ2gDRJFZKhQ+PcwTlnry8xJ0XgMmMGCex6AP92ILEZ104ww6Mm//NExKkRIR6sAMYacLLI6qZuFQGQcCJEuTNSGkmcSUy9f/fZ3nEAMaBuU8Ai+ip2KtcnPx4QgFL3eLmntEobFrWZgQxGUICwmKHokoxD2o8x6raeSHmJgGaUSIAlBbF0//NExLcPgMKoAMYeTJ5eNzM53//6lIVHyIkn0DMydee//+h/56oPqS2XCA4fOzmExbNOVDufSiEJ/VCVHgNAW1VdBm26i0IeyhiFaOhaxkmAOATUbDo8VGzGrW//9VlG//NExMwR0R6cAM4acCawKTojnKU7//9H//+ymkB2KmxpYm5xcwCQQYRNuthvpSgLJQ5S9uhqq8bL09AU5iUBplONNROHcpliUWlT8xKw1itQPvhLq1Wtz+ykeuv6s4YL//NExNcRwR6cAM5acMtSlatKkUhBzpX/////+upNRiowemovCb5g4QZHrjQM3ie4cCKTBGRP0sYgAOM82UIQbAky8+LFUhzmCTs0DuqRywQw+LCRakTMPPPtQ19yCi0H//NExOMS4SKcAM4acMEweDDyT/5IEmt7//////YgcAE1GhloKDJOoGOACaZjD8IQRIBDFLlsYA4jNv27IP9jN8yM3hwjbHpJVEBonEQhrg83Y50Hnd9xGx2ouef///////NExOoU0WKMAN4ElP//9rzKMFBAEBMSDBkunHNBSZCJocVTRJrMuBGkDAQY6Bp5jNFWKSkO7S9atUzU6brJniEJAYE98AoewNbgiOx+kjSco2ITXS12pmnjtUadgf6i//NExOkVmN54ANvYcDhG08iVyxxiRP8FVnaFE3/////9TxEdEqLXHlJH6EpUnzB5BNFnE4EEDEAQR4MiKkweAy+5gEMmRyAqs0CICIC18qazlebE92VI0ZpYeA6XJMa9//NExOUQ6P6AANsWcLLrqL2I1vTW7JNthI9MKLw4xYKEf/nnFL/////+qoLRdoEBcTmashq0lJEIkdDBC4sGBGFMAHVIPJotbg9sDX4tLTRJAOSJ8HAYqDlGx9z4WALe//NExPQbAQ5kAOZecCWCXF5InmV+PUpDmHQTNaJiXDNrIZJjsJ49SWPIoqRZL9zUpmk+PQnJP6v+XUi8al9M0L510VtRr//mCJdPmjJmBw6kkyktS2//q/Rc+gFxUFgA//NExNsWoQ5sAVxYADrOujJ9jwnQTaA4MwxJFIndonorwUy/JNWxDUax0NYRUjHZLLx4jDFwkESRNalOxdMSsmF+dMjZJWyzMwJI1Y0RRMThs/d5iyeYmWioyLx370j7//NExNMgosKUAZpoACkBgyXLR4GqJOHcOYuosY9SSS1KJQ1L5mfJRR4/Saa01InS6pJL/9TVrWqyRwublsXVBqoWxGgT2JbGPMN2ntuPXb2n72N9dubesvm6A9DgLvl9//NExKMg0ppkAZpoAEaHyqblwkvoGiRow4JaJst/oILQuPQuQqCfBW5J/2uybrGWEeDnhlBUhHgAc/66dk1M4nUR+JTGsJwDEhFSJl//9TKahtskaCdCGilyBk8RAR4S//NExHIh2ypoAZmIAKOMcf//r/v7ZwqDgKZPk+plIpl9RpUSY4wJSXFSZibLclEWOnz/Cy9+e88DtcX2vWL4mcYm+Lb+/azl8wZN3xJmaFjWfqi4lpUfCncGCDarxEPs//NExD0g8v6wAYl4AFlw1ee8ysnbIMOlNRIN32szQHsdv2zvZpo0beXJ1bUlaTWtSB6zR60lxuJuD09Gb8e8beMZz8Y/xr///7/+c//Nv/8xL35dM1mZfHGMsDIAkCw2//NExAwTqj60Ac0oAC4mrb7f/////pvTb53I6OIi6jkOguJC4ccBVFDmRTM5Yw6FZ1rahlojGZlQQPUhhAx1uUzRWIkgJqwWY5bEv6NvtHJ78MpqjW0ftQT6jawZgUER//NExBATghqkAMhMmKXZgLdff////e7LNvyZgKtV50atK9PgMKSJJJP8piVjT41UbeTn+s8/9mqv8967U2H5rscFRdxEO1dH//UNdbkchyvKQtEmKArQ3jblSYLHqgZq//NExBUReZ6kANiQlM/4gn//7f+9/pQ494gSBwC0O5mpCUFwpVQQKLVS7B3CTpAyG3jM//x2WMVNX//+zAulrRp6UwUbjDYVUKYz6PdH4wtt+QCNgfoH////3de+Ud9t//NExCISoX6kANhWlG7xKTjtqkogj8rMSDMEo4ToqnbpZ5qatix1P9iZgVE7zNptsmP///lVgTeNuonuF4MHwsV52anvy3/////5HtwHNgaqEAxkEgNDUg3USXXcpeE7//NExCoSCgKwAMBGmBOmMRy6Zc3Tcq4tAAQhBFaTIKEAugpWJyH+9dTt9aolemElAeTA3dkv//////zRykVMxTXYLqeuJ6U9Z5lOGXnS81/7ShlBQUScdBWAmlSMRBIC//NExDQPwe6wAGhGmLEEA7IkTqq3ciqVQ8k56vn7ChuGHdI3/Upb6Pl/eZsv9d2hVKoqHIejDgdD62Fh9FPS001fNLDTWq8/r618/8X8X3TStQzmsWFRp0kWUHYdDtr9//NExEgSofJ4AHiQmN/5WhcEXrS+QXg5fjA4xZpJXqct3LNuk1y/hdy1X6ZLN4RvEwhFCRp4jQERA0yKHUAW8mE2LWLSplaKqaimwvQlNdWldn7f/9Up8oNWqdT7ozmP//NExFAReKpUAVoYADl9+jQYxv3Z5UVAuwskR5loXorDUQooGonixviHBsEMSlwuACARk/85nmvH9V/336nuZdv+lktUr+eK5J/+Tmf+ULHnusw4z////z8/XP56MrDh//NExF0XayqoAY9QABKxV/UqtQQTVa1DMp5WgIgIla/NaIymdbmn3S4WrSwID/7hwHIiRbkiKAQg7rhOe+kT+eCCRUFBAa/f9QYfqTPLOhoFU/+uY53X6xgINfP52urN//NExFIRcRK4AdhAAAMBBVTQU5YCaGADcySplAXKbdIWB5ZqsJsKA1Sd/Z/v5qFua5Nhjvc+nJSSsbSJsXCRNgGcWr5nv/Q2uozfw5vrM0QOfO413TEM2K26PClfdBGP//NExF8R4S6wAMQWcJIxrmdmMZ09PjD9IwX8a8+EQs4mzqr/P//o2VpjGc4d/OPiHCuk3RUy5QiBqo7z21//63uXa2ll+540GECm3RZTlkcwuRIphnu9ghYgfLGBjBRA//NExGoSgSq0AVh4AEoEfwCSQONAYASSpk60fC2wC48M0AUVDpkiGkygWfhZEGEQ9AdoWhETRZ0qvw5EUgKTMxniXZHRb/iExfGVKEgJNF0naq1av/LymTNEDcoFgvmh//NExHMhgq6IAZqgAEv///y+XDh0wMjqReLqRsXS9+s9EKGgEwMFMDIjfIQIsDJxdEtgAYJs0VvmLrfzsF0crlF2evRPLsXYCUeQLH4Bo8I5yizNVpmcg5yjLkZZmnAj//NExEAg6sZcAdswAZq8vVcxJr77FtdmpZdGrcx08sQgeQIdTPfnPGbjtyHbPH3G/j93M2DId41t7/Nb+++92j78Xkptj056fpmLWZXsI/jFJgpkrcxgdPFezKBdGZXw//NExA8Uwr6AANhKuFBArE43LWeKwX73adBR6lOanH///xjGIGyX6NuTYQHKc4s4hdRIa0osDCpiz0t9dX/7z1dWOy3//6ISxbc9ImjDhA7rUEgXqDJ+OhMBhVhCWVia//NExA8TuiqMANCKmE29TL7jRm1b/////q57aunVejbCIHEw+cBGK6EsznFw8HBTOc+RxP0EEFKOd0bZTuxzzxRy3+WR5ARicRtELxpPGTdg40tFTeVULGQ4vR2Ot2nF//NExBMQ6eagANBGmALn/////+iFelMw4cWZG55ATYTXxRU3R6pDl9ZC88nbyJzhUXJfKnni37p+repHd1VoO6R9zQZCa5JXqCA5nEh3MR0XdvT/9qfoAEEA4KK66iER//NExCIROdKkAMiKlFDHRZVFndlZZWcxqZJXQpmWnf7lypuYQCIlPMPU8DGrf/8ih25fjjFzlwdWOff4RiBjY+lnLc6paHljv/ayC96hJ4Yjd9QEb58jF3EKypLkrtnk//NExDAR2dqcANpEmEFCgF30rf9P07szHT//+ViiZX/a7//ydWD3InDABrnTXDwNekoCok1+RJtflLuBeXu9jn/DahaGvWIZYkw/VMr2tRwWXUkmQ6CqHJQLppAJc9/9//NExDsRIKqUANaeTCJQU/8F2t///pVZ0ul7tAzyRCJLD8CigU6QkaIw3kYvT7fqp4+qKcIg/aLlfJauH0lA7MopU7SS0koNS5ZB4AHA6sNVYtW0ezyH/QpIOPzENgAR//NExEkQWOaQANPQcD3j4DEkvdpHQBRA9B35iMF9C7EIfSdgGLMarjl2GGOiPPTTlEqaBJYFes8wSC5hXXX5n7lh8Xb/YapzrdNVj56Y7+yaXylpY/FYPMPA7Jm0aea7//NExFoQII6MAN5eTORQkQgybqN2uhuAScN9iE1TCQUMJU96f5Raky76kbQIQHAc1/1f/////XWm1M/KTnMmvSypTJ0jY1dEEp9s+NhOJg5duXPok6ZVI6ugC9GPHtl8//NExGwQ2IqcANaeTPY/h+fQRhmROU/CKnlNzG1mIJtu++XIqDhm9XVOIKS5/t2gZ4zBW7L4ibsFCxCIzgcxFZtZTGZ11Hzqw1D0Gd5oRiolIXLAMH2nCQj83kOh+6LO//NExHsQOKKgANaeTD0G4JXIJ/rcA/+50hVoGXJggyVBffRp4FcHoIu/7PTr4U0d+tKxwGQ4buLurd39fv70CsioWDJ/Epfd3wv7bMs8t2Oll4dwwTrdNv4b+O6z+VIK//NExI0RmRqsAMYOcA7pdejgSZdVfunvSgweDwGSIY4YaZxcjWlC5Zg6dHjQZqVx2DMr9SVw7Z1u5f/9Gm9sJA1NyL+ppnZ8361V9xnfCQMvHKel5oYr1tltag6n//////NExJkTUSKoAM5Scf9SDASIT0wECx9AeLAKtwjDx2aDkZQZ3qYlBAlUlrJBKpIfDavtcm3SQGWOi1qUzbP8H/2fVsCIGlZyZqFFNsiyqEBQOk3rb7aP////6zDl1QUJ//NExJ4TKR6gAM4McMNStrJg7SEusoaYp8w1oAxJRzElccUDI0QL9N2PsnmVrGzrPGYck9zbQ2r3P1MrEhRijTCRJA4OKIJJ7ClFdyyNpPYo2+Zvkqt0lV/////SSUAj//NExKQTiWaMANtGlPMcdAwZVOKEhYAS/QuCBI0gmMcCHVlzuhgH0o2E53J43s8B0r3Bvfpxwh3iyuk+5Jx6c62nHSsiq94wdXwKEJQS1ZUoJ47iAPwaRj+gkgqIZ+vj//NExKgUsWqMANtSlDzn00UMcw0onV0ab5u7gqgg1B1Y+EaEsv1t/u6v/dWqYHRRKFtcPIRTEdBTFBo654W6ILKbOsQAwds3xbehlotH9qrVpb3UqsmL1OWbia60n+tm//NExKgdCXqUANvYlL1XkosAjZRDlkZqp8+q3tv/3m4kKjWO/KhK7////64thE5HBLNzoyoIOIJYIKgpmFSJZsils/GlAod7c3JSxHLykBTbC8xOUJ6stH3MEp2utcsF//NExIYUcWKgANMMlFR4dcz/52iqlYSPOb////z1DhTrEZCmawsCA5kzOcIomUFYOAS9hckwIxNAJSINdJhz7qAuLGqaUy3kajS5l3ABZVQoYs4CwMmHJ+Lxmw7f/t/7//NExIcSAKKUAN7YTDcR////56JXIIpqNVKDAzo2QUBoACz0wccASUIANIJzl7rGgXKLRRdT0subJBYB4hgQUVuzQmQTCUVjpO3btpyzlPKTpqO1DqPipe9OyktNkWG0//NExJISUI54AVtIAE/szd+fdVykecbPSuerlyDIZs6qGHmueawq1r2e50/7vZfv7vtGETsSx0w65inPdMcS6a/q4rZ9Uz/i4dKmNNydNwpfYgFkASUlpDFyfwZIXXn5//NExJsiKwpgAZtYAWf5cdm5qbGtcMtjfIIXTJaPYDSUGz4euAwRBN2d2bJkZsCZQPOQUGkikktX4GsoWzJMNUDgTU6DOyP8cA+xS4uAnI56S1qXb/455PmpkTggmVic//NExGUgmwJ8AZmYAQ9dn6lq//82NEiYKh9kycLiCH////+imXDRXzNB6mxSBWFNxiI4k1/A9liIoCVq8isvnKd8MjIrl5BSJQQUUnIKXVIGS0buTohUCGEwOOZAomJN//NExDUcuhqsAZmAACqdjxBibImpystZsyyULA6DVZq5MnHdJTKSqdFaXzK5SL5SHOIs6jV70kDFZul3s6frQXy62vWz/f6bn/ZRW/lTSpnTSjU4EoHKfnjoJKCRWl5h//NExBUXqa6kAdpoAPqmlvP/sxCGW+v8v/W/ZiwliVWfMBljxF4tOEw0CdAGKeTSnCmXl2RUboukpTGKrrTLWZk1F40PtXOLfA7hQoK1kNv///Lq0HhqeTLupkkIHMXp//NExAkSuY6oANHWlHMVfV9GLiAI0O2yygk6zQOGpxqOq3vY5+6HZ7Uc6YRH4ByDk48sHkA8DI4HtBVyruu+uIn/9jOY4WYeMjFmNk+JVVRwxG15JcmEQEc5FI8K33ge//NExBER0YaQAOHOlBL7iwSZdGxwecDhGrdANIMdcHh3zv/lTdUKqyoaSEYRwclCZEwl7L6s/0bQ4Ulg6zUVqbnf+tV7Gm3YaMPhg2QQzko2ZIYJACBBGoiKAVgRMA+I//NExBwRQOqEAOMEcCVMeWuR1aj1y+M35VdaoVO21SeKpMk0zimN/7CaS4EzlIMZz/v+hv2rarAbrPkgMN3yw0CEHbdKIJ9oagwSRWB1fLbRnnoMKiEPWJRM4CEBI4ip//NExCoSIOqEAOJGcIGTuyOAK8cqQ5koJMnLb58UQsgmHCiqFdv//q093oWHZW4rgIum76FjK3FjVDIfNJppDBdphzGkVBADxOIBxCLTxAt6+68s7w2XEyUUOJPWLn+d//NExDQPqOKAAMJMcOu8WgVlvs////yKE95UX/8qr2m0adf5m3GvmIuEwpgTXAQBcQgUkeaDJwlZV04WcH87g/mToPtU9xfOK//9xQHwfNA+bf/////+TRUMmUlrMJda//NExEgQGKKcAUx4ABpAKBzNz8AwBoDyOY0hwIQFYB6gkRNNRwhzwU8EjC2grJG1owG4FoGAHmbI1P9Jlpp+j/LiDKQb2r/ppuy361GC2NE9bK9BAvm6Y5DQyCtmV/r5//NExFoY2dqQAY9oAHyDhdx7/+oBg+oWCZ2sxlxYKOQwQClx16w+EGPIpovCMRp+4wA8CAUFA0A4b4foDUSbnA1AZkNVFEnhbBXSCoucdi6QVJSO+/pIqWXV6qT1+tGy//NExEkdMuqMAZmgAIveur/SSPFQbpAyjWt0y6TqJ5S390dms/ekprfq//9+pKgdLxuQD/S1Vol6QHS9+QCKn/hxh4oGCxgxcelDGoHJjgWoCPH0M/RCMDeKQu2WAVg0//NExCcRwZKEAdsoAboU8ajEuDXBBa48Vsf/vTq31/ot0///9yoNUDffmaIGSyaTNjDCd2FQ8zQxs+OoFRGgtIdvc6WyhYRWJt1VDYUQ2aFgFxJLK0vqeqcPTMNlSsk8//NExDMQ+JaAAN5YTBuv///rDoBcp6QKT/////RVDgEuUQgIyofDUIOQGgkCmG5WY0AbxDxz5xIOHEEEZaQ3EKZA7FdkCRRk1+3Ac99irwGw6pV6n////5Y827Z////I//NExEIQ0IJ4AOYySHpVSYbKFAUZ3kggAEJBJfNSuIBFMu2Z44P1XHqA0dDzpNeBzpN1ClDgrG5uC8csSuX8exsz6/8v//XvUDVWkufJ///913CP+tV0WxDgDMNvtCSq//NExFERkIpwAOaeTCMICMbNosDI8aFSHlWXRQtLIaZoyiN2yShkfkErzgEcDOW5cD91Y+9X/ic2T//qnzaP2GHf//rNXlEIIIKYAapMIlScwRgOOH2uqOGKNqqsrdBF//NExF0Q8Ip0AOawTKPSAmNUlAtJqAVhEgjUjCCOoFs3PN3///2/2O5j////6EDkcsn9n//+TBHcLLKf/rUwQDZmwo2ufQ2Q4GRuhywYv9Yppp4i3WIAB5reDLmiMXOR//NExGwSYYZ8ANrElGtanTTA1WaO976dF1////1ChHde+z7//zGcYgTFM+r///z3Vo//WpVPZi7Pjas5p94wIJH3V4BgDCFVRG4qtPvBcQyfA+F8prGoGxHHD0+vn/r9//NExHUSUYp4ANrElDu7KGT/bv/pg2USVGqIsb//+/7IAF0fSQnvoRACqBMNOPdRYZiYhGgkBj0FGKjzrdiUDd/v0e/0sLjzMILv/++j4jQLAjJt/kbP/oYlX0J7en////NExH4RcYZ0ANoElP////rqYUn//iQFPSvUnTxGhXM4YWFGmA8OR4FBrUeLD8xG/bxe0//vLZBSKQOA0b8zXVOuqOfzTioPRg5ASvi6G9pZraNTEf/+73tY4CHW/o+o//NExIsQgpJ0ANlEuHoITIzmG0He0hgCLGGwjR17wYIrSclhsboFKz6nq2TFT/4vBggOCgUopYephZj//26n0FRCEw5AurZb42u3TX6//X91gXdQ+npqGQJuQ5LALuSj//NExJwSaRpsANmOcC34BDi9YBDUhYRbD576L9ft29uTeLs+9qHl4AoVAmrFLr5ttPQ6keJDUjJCwY0lX8cexFXkh7////XHkQk0uUeNQicYGaTItCyJdqw029Eh1ro1//NExKUSESJsANLQcJBm2skUUdGNR+VMESeJoEwrZtf9PTZTJxwiiaw8miceLVuZEBPAyjY8OcoE/9MzAdA8zEs4xGCnakbstdoIPh3mFM0RDzWIpKBrY5WoWalv2aHp//NExK8RQR5sANsOcIlz543itT/R5WeVlK3NVsrBUAsrFmoETZEVdlg6u4Tf3d32qTMxDchjDFR4aqanmqGAhqLZZqwfcuKrdENECSMUskWSlsf5RVUehIhosSERIK0E//NExL0ROR5kAMpUcFHW7CpkqIm+6wsBQEBSX3xhEli7v/7vyqpMQU1FMy45OS41qqqqqqqqqqqqqqqqqqqqqqqqqqqqqqqqqqqqqqqqqqqqqqqqqqqqqqqqTEFNRTMu//NExMsSMVZQANJElDk5LjWqqqqqqqqqqqqqqqqqqqqqqqqqqqqqqqqqqqqqqqqqqqqqqqqqqqqqqqqqqqqqqqqqqqqqqqqqqqqqqqqqqqqqqqqqqqqqqqqqTEFNRTMu//NExNURyKIUANMSTDk5LjWqqqqqqqqqqqqqqqqqqqqqqqqqqqqqqqqqqqqqqqqqqqqqqqqqqqqqqqqqqqqqqqqqqqqqqqqqqqqqqqqqqqqqqqqqqqqqqqqqTEFNRTMu//NExKwAAANIAAAAADk5LjWqqqqqqqqqqqqqqqqqqqqqqqqqqqqqqqqqqqqqqqqqqqqqqqqqqqqqqqqqqqqqqqqqqqqqqqqqqqqqqqqqqqqqqqqqqqqqqqqqTEFNRTMu//NExKwAAANIAAAAADk5LjWqqqqqqqqqqqqqqqqqqqqqqqqqqqqqqqqqqqqqqqqqqqqqqqqqqqqqqqqqqqqqqqqqqqqqqqqqqqqqqqqqqqqqqqqqqqqqqqqqTEFNRTMu//NExKwAAANIAAAAADk5LjWqqqqqqqqqqqqqqqqqqqqqqqqqqqqqqqqqqqqqqqqqqqqqqqqqqqqqqqqqqqqqqqqqqqqqqqqqqqqqqqqqqqqqqqqqqqqqqqqqTEFNRTMu//NExKwAAANIAAAAADk5LjWqqqqqqqqqqqqqqqqqqqqqqqqqqqqqqqqqqqqqqqqqqqqqqqqqqqqqqqqqqqqqqqqqqqqqqqqqqqqqqqqqqqqqqqqqqqqqqqqqTEFNRTMu//NExKwAAANIAAAAADk5LjWqqqqqqqqqqqqqqqqqqqqqqqqqqqqqqqqqqqqqqqqqqqqqqqqqqqqqqqqqqqqqqqqqqqqqqqqqqqqqqqqqqqqqqqqqqqqqqqqqTEFNRTMu//NExKwAAANIAAAAADk5LjWqqqqqqqqqqqqqqqqqqqqqqqqqqqqqqqqqqqqqqqqqqqqqqqqqqqqqqqqqqqqqqqqqqqqqqqqqqqqqqqqqqqqqqqqqqqqqqqqqTEFNRTMu//NExKwAAANIAAAAADk5LjWqqqqqqqqqqqqqqqqqqqqqqqqqqqqqqqqqqqqqqqqqqqqqqqqqqqqqqqqqqqqqqqqqqqqqqqqqqqqqqqqqqqqqqqqqqqqqqqqqTEFNRTMu//NExKwAAANIAAAAADk5LjWqqqqqqqqqqqqqqqqqqqqqqqqqqqqqqqqqqqqqqqqqqqqqqqqqqqqqqqqqqqqqqqqqqqqqqqqqqqqqqqqqqqqqqqqqqqqqqqqqTEFNRTMu//NExKwAAANIAAAAADk5LjWqqqqqqqqqqqqqqqqqqqqqqqqqqqqqqqqqqqqqqqqqqqqqqqqqqqqqqqqqqqqqqqqqqqqqqqqqqqqqqqqqqqqqqqqqqqqqqqqqTEFNRTMu//NExKwAAANIAAAAADk5LjWqqqqqqqqqqqqqqqqqqqqqqqqqqqqqqqqqqqqqqqqqqqqqqqqqqqqqqqqqqqqqqqqqqqqqqqqqqqqqqqqqqqqqqqqqqqqqqqqqTEFNRTMu//NExKwAAANIAAAAADk5LjWqqqqqqqqqqqqqqqqqqqqqqqqqqqqqqqqqqqqqqqqqqqqqqqqqqqqqqqqqqqqqqqqqqqqqqqqqqqqqqqqqqqqqqqqqqqqqqqqqqqqqqqqq//NExKwAAANIAAAAAKqqqqqqqqqqqqqqqqqqqqqqqqqqqqqqqqqqqqqqqqqqqqqqqqqqqqqqqqqqqqqqqqqqqqqqqqqqqqqqqqqqqqqqqqqqqqqqqqqqqqqqqqqqqqqq//NExKwAAANIAAAAAKqqqqqqqqqqqqqqqqqqqqqqqqqqqqqqqqqqqqqqqqqqqqqqqqqqqqqqqqqqqqqqqqqqqqqqqqqqqqqqqqqqqqqqqqqqqqqqqqqqqqqqqqqqqqqq\" type=\"audio/wav\" />\n",
       "                    Your browser does not support the audio element.\n",
       "                </audio>\n",
       "              "
      ],
      "text/plain": [
       "<IPython.lib.display.Audio object>"
      ]
     },
     "execution_count": 37,
     "metadata": {},
     "output_type": "execute_result"
    }
   ],
   "source": [
    "Audio(sound_file1 , autoplay = True)"
   ]
  },
  {
   "cell_type": "code",
   "execution_count": null,
   "metadata": {},
   "outputs": [],
   "source": []
  },
  {
   "cell_type": "code",
   "execution_count": null,
   "metadata": {},
   "outputs": [],
   "source": []
  }
 ],
 "metadata": {
  "kernelspec": {
   "display_name": "Python 3",
   "language": "python",
   "name": "python3"
  },
  "language_info": {
   "codemirror_mode": {
    "name": "ipython",
    "version": 3
   },
   "file_extension": ".py",
   "mimetype": "text/x-python",
   "name": "python",
   "nbconvert_exporter": "python",
   "pygments_lexer": "ipython3",
   "version": "3.7.3"
  }
 },
 "nbformat": 4,
 "nbformat_minor": 2
}
